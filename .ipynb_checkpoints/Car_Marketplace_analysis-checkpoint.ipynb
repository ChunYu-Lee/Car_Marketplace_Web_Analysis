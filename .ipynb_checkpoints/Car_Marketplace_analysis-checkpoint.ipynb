{
 "cells": [
  {
   "cell_type": "markdown",
   "id": "8cbb142b-a927-4c09-9543-b08dc3aca37a",
   "metadata": {},
   "source": [
    "<font size=\"4\">The dataset has 12 features and 78k records.\n",
    "<br>From this dataste, I would like to investigate two questions:\n",
    "<br>--Is it possible to predict the product tier from the information given in the other columns? \n",
    "<br>--Is it possible to predict detail views from the information given in the other columns?"
   ]
  },
  {
   "cell_type": "code",
   "execution_count": 2,
   "id": "0298b5b2-4588-452d-ae70-aae19bdbc394",
   "metadata": {},
   "outputs": [],
   "source": [
    "# If you need to install the packages just uncommon this cell.\n",
    "# !pip install imbalanced-learn\n",
    "# !pip install sklearn\n",
    "# !pip install pandas\n",
    "# !pip install numpy"
   ]
  },
  {
   "cell_type": "markdown",
   "id": "fc2b2f6b-18ca-4a67-89ea-ab0c7aa1bfb7",
   "metadata": {},
   "source": [
    "<font size=\"5\">Step 0 -- Import packages. It takes around 25-30 mins to run the whole file.</font>"
   ]
  },
  {
   "cell_type": "code",
   "execution_count": 3,
   "id": "45e20afa-a8e6-4a52-9417-df3323f624fc",
   "metadata": {},
   "outputs": [],
   "source": [
    "# Basic package\n",
    "import pandas as pd\n",
    "import datetime\n",
    "import matplotlib.pyplot as plt\n",
    "import seaborn as sns\n",
    "import numpy as np\n",
    "from collections import Counter\n",
    "\n",
    "# Sklearn: metrics, prepocessing \n",
    "from sklearn.model_selection import train_test_split, cross_validate , KFold, RandomizedSearchCV\n",
    "from sklearn.experimental import enable_halving_search_cv\n",
    "from sklearn.model_selection import HalvingRandomSearchCV\n",
    "from sklearn.metrics import confusion_matrix, mean_squared_error, accuracy_score, precision_score, recall_score,f1_score, classification_report, make_scorer, mean_absolute_error\n",
    "from sklearn.pipeline import Pipeline\n",
    "from sklearn.preprocessing import LabelEncoder\n",
    "from scipy.stats import randint, mannwhitneyu\n",
    "from imblearn.over_sampling import SMOTE\n",
    "\n",
    "# SKlearn: ML models\n",
    "from sklearn.ensemble import RandomForestRegressor\n",
    "from imblearn.ensemble import BalancedRandomForestClassifier\n",
    "from sklearn.linear_model import LinearRegression"
   ]
  },
  {
   "cell_type": "markdown",
   "id": "27850363-24f8-4a11-882b-38cd91a8a9bf",
   "metadata": {},
   "source": [
    "<font size=\"5\">Step 1 -- Import Dataset</font>"
   ]
  },
  {
   "cell_type": "code",
   "execution_count": 4,
   "id": "b8751f80-609a-4ddb-833f-d4f0f89c7fdb",
   "metadata": {},
   "outputs": [],
   "source": [
    "# Please check the file name and the path before you import the dataset\n",
    "df_org = pd.read_csv(\"Data.csv\", sep = ';')"
   ]
  },
  {
   "cell_type": "code",
   "execution_count": 5,
   "id": "3ec677d8-9694-4cb3-ad4c-d97ff47461b8",
   "metadata": {},
   "outputs": [
    {
     "data": {
      "text/html": [
       "<div>\n",
       "<style scoped>\n",
       "    .dataframe tbody tr th:only-of-type {\n",
       "        vertical-align: middle;\n",
       "    }\n",
       "\n",
       "    .dataframe tbody tr th {\n",
       "        vertical-align: top;\n",
       "    }\n",
       "\n",
       "    .dataframe thead th {\n",
       "        text-align: right;\n",
       "    }\n",
       "</style>\n",
       "<table border=\"1\" class=\"dataframe\">\n",
       "  <thead>\n",
       "    <tr style=\"text-align: right;\">\n",
       "      <th></th>\n",
       "      <th>article_id</th>\n",
       "      <th>product_tier</th>\n",
       "      <th>make_name</th>\n",
       "      <th>price</th>\n",
       "      <th>first_zip_digit</th>\n",
       "      <th>first_registration_year</th>\n",
       "      <th>created_date</th>\n",
       "      <th>deleted_date</th>\n",
       "      <th>search_views</th>\n",
       "      <th>detail_views</th>\n",
       "      <th>stock_days</th>\n",
       "      <th>ctr</th>\n",
       "    </tr>\n",
       "  </thead>\n",
       "  <tbody>\n",
       "    <tr>\n",
       "      <th>0</th>\n",
       "      <td>350625839</td>\n",
       "      <td>Basic</td>\n",
       "      <td>Mitsubishi</td>\n",
       "      <td>16750</td>\n",
       "      <td>5</td>\n",
       "      <td>2013</td>\n",
       "      <td>24.07.18</td>\n",
       "      <td>24.08.18</td>\n",
       "      <td>3091.0</td>\n",
       "      <td>123.0</td>\n",
       "      <td>30</td>\n",
       "      <td>0.03780329990294403</td>\n",
       "    </tr>\n",
       "    <tr>\n",
       "      <th>1</th>\n",
       "      <td>354412280</td>\n",
       "      <td>Basic</td>\n",
       "      <td>Mercedes-Benz</td>\n",
       "      <td>35950</td>\n",
       "      <td>4</td>\n",
       "      <td>2015</td>\n",
       "      <td>16.08.18</td>\n",
       "      <td>07.10.18</td>\n",
       "      <td>3283.0</td>\n",
       "      <td>223.0</td>\n",
       "      <td>52</td>\n",
       "      <td>0.06792567773378008</td>\n",
       "    </tr>\n",
       "    <tr>\n",
       "      <th>2</th>\n",
       "      <td>349572992</td>\n",
       "      <td>Basic</td>\n",
       "      <td>Mercedes-Benz</td>\n",
       "      <td>11950</td>\n",
       "      <td>3</td>\n",
       "      <td>1998</td>\n",
       "      <td>16.07.18</td>\n",
       "      <td>05.09.18</td>\n",
       "      <td>3247.0</td>\n",
       "      <td>265.0</td>\n",
       "      <td>51</td>\n",
       "      <td>0.0816137973514013</td>\n",
       "    </tr>\n",
       "    <tr>\n",
       "      <th>3</th>\n",
       "      <td>350266763</td>\n",
       "      <td>Basic</td>\n",
       "      <td>Ford</td>\n",
       "      <td>1750</td>\n",
       "      <td>6</td>\n",
       "      <td>2003</td>\n",
       "      <td>20.07.18</td>\n",
       "      <td>29.10.18</td>\n",
       "      <td>1856.0</td>\n",
       "      <td>26.0</td>\n",
       "      <td>101</td>\n",
       "      <td>0.014008620689655173</td>\n",
       "    </tr>\n",
       "    <tr>\n",
       "      <th>4</th>\n",
       "      <td>355688985</td>\n",
       "      <td>Basic</td>\n",
       "      <td>Mercedes-Benz</td>\n",
       "      <td>26500</td>\n",
       "      <td>3</td>\n",
       "      <td>2014</td>\n",
       "      <td>28.08.18</td>\n",
       "      <td>08.09.18</td>\n",
       "      <td>490.0</td>\n",
       "      <td>20.0</td>\n",
       "      <td>12</td>\n",
       "      <td>0.04081632653061224</td>\n",
       "    </tr>\n",
       "    <tr>\n",
       "      <th>...</th>\n",
       "      <td>...</td>\n",
       "      <td>...</td>\n",
       "      <td>...</td>\n",
       "      <td>...</td>\n",
       "      <td>...</td>\n",
       "      <td>...</td>\n",
       "      <td>...</td>\n",
       "      <td>...</td>\n",
       "      <td>...</td>\n",
       "      <td>...</td>\n",
       "      <td>...</td>\n",
       "      <td>...</td>\n",
       "    </tr>\n",
       "    <tr>\n",
       "      <th>78316</th>\n",
       "      <td>348704581</td>\n",
       "      <td>Basic</td>\n",
       "      <td>Lexus</td>\n",
       "      <td>15740</td>\n",
       "      <td>8</td>\n",
       "      <td>2014</td>\n",
       "      <td>12.07.18</td>\n",
       "      <td>19.10.18</td>\n",
       "      <td>6895.0</td>\n",
       "      <td>230.0</td>\n",
       "      <td>99</td>\n",
       "      <td>0.03335750543872371</td>\n",
       "    </tr>\n",
       "    <tr>\n",
       "      <th>78317</th>\n",
       "      <td>359231940</td>\n",
       "      <td>Basic</td>\n",
       "      <td>Hyundai</td>\n",
       "      <td>2950</td>\n",
       "      <td>6</td>\n",
       "      <td>2006</td>\n",
       "      <td>28.09.18</td>\n",
       "      <td>23.10.18</td>\n",
       "      <td>1175.0</td>\n",
       "      <td>16.0</td>\n",
       "      <td>25</td>\n",
       "      <td>0.012936170212765956</td>\n",
       "    </tr>\n",
       "    <tr>\n",
       "      <th>78318</th>\n",
       "      <td>362425932</td>\n",
       "      <td>Basic</td>\n",
       "      <td>Volkswagen</td>\n",
       "      <td>7850</td>\n",
       "      <td>8</td>\n",
       "      <td>2014</td>\n",
       "      <td>04.11.18</td>\n",
       "      <td>21.11.18</td>\n",
       "      <td>448.0</td>\n",
       "      <td>21.0</td>\n",
       "      <td>16</td>\n",
       "      <td>0.046875</td>\n",
       "    </tr>\n",
       "    <tr>\n",
       "      <th>78319</th>\n",
       "      <td>357164227</td>\n",
       "      <td>Basic</td>\n",
       "      <td>Toyota</td>\n",
       "      <td>13945</td>\n",
       "      <td>5</td>\n",
       "      <td>2011</td>\n",
       "      <td>04.09.18</td>\n",
       "      <td>02.10.18</td>\n",
       "      <td>1617.0</td>\n",
       "      <td>29.0</td>\n",
       "      <td>28</td>\n",
       "      <td>0.017934446505875078</td>\n",
       "    </tr>\n",
       "    <tr>\n",
       "      <th>78320</th>\n",
       "      <td>353639932</td>\n",
       "      <td>Basic</td>\n",
       "      <td>Volkswagen</td>\n",
       "      <td>38800</td>\n",
       "      <td>7</td>\n",
       "      <td>2018</td>\n",
       "      <td>08.08.18</td>\n",
       "      <td>09.08.18</td>\n",
       "      <td>55.0</td>\n",
       "      <td>2.0</td>\n",
       "      <td>1</td>\n",
       "      <td>0.03454545454545454</td>\n",
       "    </tr>\n",
       "  </tbody>\n",
       "</table>\n",
       "<p>78321 rows × 12 columns</p>\n",
       "</div>"
      ],
      "text/plain": [
       "       article_id product_tier      make_name  price  first_zip_digit  \\\n",
       "0       350625839        Basic     Mitsubishi  16750                5   \n",
       "1       354412280        Basic  Mercedes-Benz  35950                4   \n",
       "2       349572992        Basic  Mercedes-Benz  11950                3   \n",
       "3       350266763        Basic           Ford   1750                6   \n",
       "4       355688985        Basic  Mercedes-Benz  26500                3   \n",
       "...           ...          ...            ...    ...              ...   \n",
       "78316   348704581        Basic          Lexus  15740                8   \n",
       "78317   359231940        Basic        Hyundai   2950                6   \n",
       "78318   362425932        Basic     Volkswagen   7850                8   \n",
       "78319   357164227        Basic         Toyota  13945                5   \n",
       "78320   353639932        Basic     Volkswagen  38800                7   \n",
       "\n",
       "       first_registration_year created_date deleted_date  search_views  \\\n",
       "0                         2013     24.07.18     24.08.18        3091.0   \n",
       "1                         2015     16.08.18     07.10.18        3283.0   \n",
       "2                         1998     16.07.18     05.09.18        3247.0   \n",
       "3                         2003     20.07.18     29.10.18        1856.0   \n",
       "4                         2014     28.08.18     08.09.18         490.0   \n",
       "...                        ...          ...          ...           ...   \n",
       "78316                     2014     12.07.18     19.10.18        6895.0   \n",
       "78317                     2006     28.09.18     23.10.18        1175.0   \n",
       "78318                     2014     04.11.18     21.11.18         448.0   \n",
       "78319                     2011     04.09.18     02.10.18        1617.0   \n",
       "78320                     2018     08.08.18     09.08.18          55.0   \n",
       "\n",
       "       detail_views  stock_days                   ctr  \n",
       "0             123.0          30   0.03780329990294403  \n",
       "1             223.0          52   0.06792567773378008  \n",
       "2             265.0          51    0.0816137973514013  \n",
       "3              26.0         101  0.014008620689655173  \n",
       "4              20.0          12   0.04081632653061224  \n",
       "...             ...         ...                   ...  \n",
       "78316         230.0          99   0.03335750543872371  \n",
       "78317          16.0          25  0.012936170212765956  \n",
       "78318          21.0          16              0.046875  \n",
       "78319          29.0          28  0.017934446505875078  \n",
       "78320           2.0           1   0.03454545454545454  \n",
       "\n",
       "[78321 rows x 12 columns]"
      ]
     },
     "execution_count": 5,
     "metadata": {},
     "output_type": "execute_result"
    }
   ],
   "source": [
    "df_org"
   ]
  },
  {
   "cell_type": "markdown",
   "id": "f19c223e-9070-4061-9511-810cfeb77fb6",
   "metadata": {},
   "source": [
    "<font size=\"5\">Step 2 -- EDA & Data cleaning</font>"
   ]
  },
  {
   "cell_type": "code",
   "execution_count": 6,
   "id": "c8798f5c-41ce-4d87-ae0e-525d3ca935b7",
   "metadata": {},
   "outputs": [
    {
     "data": {
      "text/html": [
       "<div>\n",
       "<style scoped>\n",
       "    .dataframe tbody tr th:only-of-type {\n",
       "        vertical-align: middle;\n",
       "    }\n",
       "\n",
       "    .dataframe tbody tr th {\n",
       "        vertical-align: top;\n",
       "    }\n",
       "\n",
       "    .dataframe thead th {\n",
       "        text-align: right;\n",
       "    }\n",
       "</style>\n",
       "<table border=\"1\" class=\"dataframe\">\n",
       "  <thead>\n",
       "    <tr style=\"text-align: right;\">\n",
       "      <th></th>\n",
       "      <th>article_id</th>\n",
       "      <th>price</th>\n",
       "      <th>first_zip_digit</th>\n",
       "      <th>first_registration_year</th>\n",
       "      <th>search_views</th>\n",
       "      <th>detail_views</th>\n",
       "      <th>stock_days</th>\n",
       "    </tr>\n",
       "  </thead>\n",
       "  <tbody>\n",
       "    <tr>\n",
       "      <th>count</th>\n",
       "      <td>7.832100e+04</td>\n",
       "      <td>78321.000000</td>\n",
       "      <td>78321.000000</td>\n",
       "      <td>78321.000000</td>\n",
       "      <td>78311.000000</td>\n",
       "      <td>78311.000000</td>\n",
       "      <td>78321.000000</td>\n",
       "    </tr>\n",
       "    <tr>\n",
       "      <th>mean</th>\n",
       "      <td>3.574869e+08</td>\n",
       "      <td>15067.655316</td>\n",
       "      <td>4.632117</td>\n",
       "      <td>2011.089465</td>\n",
       "      <td>2297.502522</td>\n",
       "      <td>93.469870</td>\n",
       "      <td>35.986262</td>\n",
       "    </tr>\n",
       "    <tr>\n",
       "      <th>std</th>\n",
       "      <td>5.076572e+06</td>\n",
       "      <td>16374.497606</td>\n",
       "      <td>2.354275</td>\n",
       "      <td>6.538395</td>\n",
       "      <td>6339.034423</td>\n",
       "      <td>228.025588</td>\n",
       "      <td>32.214835</td>\n",
       "    </tr>\n",
       "    <tr>\n",
       "      <th>min</th>\n",
       "      <td>3.472324e+08</td>\n",
       "      <td>1.000000</td>\n",
       "      <td>1.000000</td>\n",
       "      <td>1924.000000</td>\n",
       "      <td>0.000000</td>\n",
       "      <td>0.000000</td>\n",
       "      <td>-3.000000</td>\n",
       "    </tr>\n",
       "    <tr>\n",
       "      <th>25%</th>\n",
       "      <td>3.536387e+08</td>\n",
       "      <td>5750.000000</td>\n",
       "      <td>3.000000</td>\n",
       "      <td>2008.000000</td>\n",
       "      <td>367.000000</td>\n",
       "      <td>13.000000</td>\n",
       "      <td>10.000000</td>\n",
       "    </tr>\n",
       "    <tr>\n",
       "      <th>50%</th>\n",
       "      <td>3.585480e+08</td>\n",
       "      <td>10900.000000</td>\n",
       "      <td>5.000000</td>\n",
       "      <td>2013.000000</td>\n",
       "      <td>920.000000</td>\n",
       "      <td>36.000000</td>\n",
       "      <td>25.000000</td>\n",
       "    </tr>\n",
       "    <tr>\n",
       "      <th>75%</th>\n",
       "      <td>3.614817e+08</td>\n",
       "      <td>18890.000000</td>\n",
       "      <td>7.000000</td>\n",
       "      <td>2015.000000</td>\n",
       "      <td>2234.000000</td>\n",
       "      <td>94.000000</td>\n",
       "      <td>55.000000</td>\n",
       "    </tr>\n",
       "    <tr>\n",
       "      <th>max</th>\n",
       "      <td>3.647040e+08</td>\n",
       "      <td>249888.000000</td>\n",
       "      <td>9.000000</td>\n",
       "      <td>2106.000000</td>\n",
       "      <td>608754.000000</td>\n",
       "      <td>13926.000000</td>\n",
       "      <td>127.000000</td>\n",
       "    </tr>\n",
       "  </tbody>\n",
       "</table>\n",
       "</div>"
      ],
      "text/plain": [
       "         article_id          price  first_zip_digit  first_registration_year  \\\n",
       "count  7.832100e+04   78321.000000     78321.000000             78321.000000   \n",
       "mean   3.574869e+08   15067.655316         4.632117              2011.089465   \n",
       "std    5.076572e+06   16374.497606         2.354275                 6.538395   \n",
       "min    3.472324e+08       1.000000         1.000000              1924.000000   \n",
       "25%    3.536387e+08    5750.000000         3.000000              2008.000000   \n",
       "50%    3.585480e+08   10900.000000         5.000000              2013.000000   \n",
       "75%    3.614817e+08   18890.000000         7.000000              2015.000000   \n",
       "max    3.647040e+08  249888.000000         9.000000              2106.000000   \n",
       "\n",
       "        search_views  detail_views    stock_days  \n",
       "count   78311.000000  78311.000000  78321.000000  \n",
       "mean     2297.502522     93.469870     35.986262  \n",
       "std      6339.034423    228.025588     32.214835  \n",
       "min         0.000000      0.000000     -3.000000  \n",
       "25%       367.000000     13.000000     10.000000  \n",
       "50%       920.000000     36.000000     25.000000  \n",
       "75%      2234.000000     94.000000     55.000000  \n",
       "max    608754.000000  13926.000000    127.000000  "
      ]
     },
     "execution_count": 6,
     "metadata": {},
     "output_type": "execute_result"
    }
   ],
   "source": [
    "# check the description of the numeric feature dataset\n",
    "df_org.describe()"
   ]
  },
  {
   "cell_type": "code",
   "execution_count": 7,
   "id": "a8373032-eec9-4a44-864b-057db3ef4e1f",
   "metadata": {},
   "outputs": [
    {
     "name": "stdout",
     "output_type": "stream",
     "text": [
      "<class 'pandas.core.frame.DataFrame'>\n",
      "RangeIndex: 78321 entries, 0 to 78320\n",
      "Data columns (total 12 columns):\n",
      " #   Column                   Non-Null Count  Dtype  \n",
      "---  ------                   --------------  -----  \n",
      " 0   article_id               78321 non-null  int64  \n",
      " 1   product_tier             78321 non-null  object \n",
      " 2   make_name                78321 non-null  object \n",
      " 3   price                    78321 non-null  int64  \n",
      " 4   first_zip_digit          78321 non-null  int64  \n",
      " 5   first_registration_year  78321 non-null  int64  \n",
      " 6   created_date             78321 non-null  object \n",
      " 7   deleted_date             78321 non-null  object \n",
      " 8   search_views             78311 non-null  float64\n",
      " 9   detail_views             78311 non-null  float64\n",
      " 10  stock_days               78321 non-null  int64  \n",
      " 11  ctr                      78297 non-null  object \n",
      "dtypes: float64(2), int64(5), object(5)\n",
      "memory usage: 7.2+ MB\n",
      "None\n"
     ]
    }
   ],
   "source": [
    "# check the Dtype and non-null count\n",
    "print(df_org.info())"
   ]
  },
  {
   "cell_type": "code",
   "execution_count": 8,
   "id": "47395ed4-6b49-4eaf-aa50-361c7f6f8acb",
   "metadata": {},
   "outputs": [
    {
     "name": "stdout",
     "output_type": "stream",
     "text": [
      "Null value check: article_id                  0\n",
      "product_tier                0\n",
      "make_name                   0\n",
      "price                       0\n",
      "first_zip_digit             0\n",
      "first_registration_year     0\n",
      "created_date                0\n",
      "deleted_date                0\n",
      "search_views               10\n",
      "detail_views               10\n",
      "stock_days                  0\n",
      "ctr                        24\n",
      "dtype: int64\n"
     ]
    }
   ],
   "source": [
    "# check the null value count\n",
    "print(\"Null value check:\",df_org.isnull().sum())"
   ]
  },
  {
   "cell_type": "code",
   "execution_count": 9,
   "id": "45e79d37-ac8a-460d-8460-f43c43eeb3d0",
   "metadata": {},
   "outputs": [
    {
     "data": {
      "text/plain": [
       "product_tier\n",
       "Basic      75421\n",
       "Plus         576\n",
       "Premium     2324\n",
       "dtype: int64"
      ]
     },
     "execution_count": 9,
     "metadata": {},
     "output_type": "execute_result"
    }
   ],
   "source": [
    "# Distribution of the product tier, it is an imbalance dataset\n",
    "df_org.groupby('product_tier',axis = 0).size()"
   ]
  },
  {
   "cell_type": "code",
   "execution_count": 28,
   "id": "173cceee-1706-4aab-afaf-b782d15d354e",
   "metadata": {},
   "outputs": [
    {
     "data": {
      "text/plain": [
       "<AxesSubplot:ylabel='product_tier'>"
      ]
     },
     "execution_count": 28,
     "metadata": {},
     "output_type": "execute_result"
    },
    {
     "data": {
      "image/png": "[encoded data removed]",
      "text/plain": [
       "<Figure size 1008x432 with 1 Axes>"
      ]
     },
     "metadata": {},
     "output_type": "display_data"
    }
   ],
   "source": [
    "df_org['product_tier'].value_counts().plot(kind='pie', figsize = (14,6))"
   ]
  },
  {
   "cell_type": "code",
   "execution_count": 34,
   "id": "64fb681b-c0f4-464a-a017-d74bc86b087f",
   "metadata": {},
   "outputs": [
    {
     "data": {
      "text/plain": [
       "15098.9328171199"
      ]
     },
     "execution_count": 34,
     "metadata": {},
     "output_type": "execute_result"
    }
   ],
   "source": [
    "df_org.loc[df_org['product_tier'] == 'Basic', 'price'].mean()"
   ]
  },
  {
   "cell_type": "code",
   "execution_count": 31,
   "id": "f93883fb-26dc-46cc-90cf-72d181666b5e",
   "metadata": {},
   "outputs": [
    {
     "data": {
      "text/plain": [
       "Text(0, 0.5, 'Price')"
      ]
     },
     "execution_count": 31,
     "metadata": {},
     "output_type": "execute_result"
    },
    {
     "data": {
      "image/png": "[encoded data removed]",
      "text/plain": [
       "<Figure size 720x432 with 1 Axes>"
      ]
     },
     "metadata": {
      "needs_background": "light"
     },
     "output_type": "display_data"
    }
   ],
   "source": [
    "# Check the distribution of price and product tier\n",
    "ax = df_org[['price','product_tier']].boxplot(by='product_tier', figsize= (10,6))\n",
    "ax.set_ylabel(\"Price\")"
   ]
  },
  {
   "cell_type": "code",
   "execution_count": 11,
   "id": "61c330fa-9186-4955-a346-d5c9d4d27bcd",
   "metadata": {},
   "outputs": [
    {
     "data": {
      "text/plain": [
       "<matplotlib.collections.PathCollection at 0x7f9c28ac2670>"
      ]
     },
     "execution_count": 11,
     "metadata": {},
     "output_type": "execute_result"
    },
    {
     "data": {
      "image/png": "[encoded data removed]",
      "text/plain": [
       "<Figure size 432x288 with 1 Axes>"
      ]
     },
     "metadata": {
      "needs_background": "light"
     },
     "output_type": "display_data"
    }
   ],
   "source": [
    "# Check the distribution of search views and product tier\n",
    "plt.scatter(df_org['search_views'], df_org['product_tier'])"
   ]
  },
  {
   "cell_type": "markdown",
   "id": "15ee143b-caa2-4ec6-bb43-fb5dee253745",
   "metadata": {},
   "source": [
    "<font size = \"4\">After reviewing the dataset and data type, there are actions I will take here.\n",
    "<br>1. change the Dtype of ctr to float64\n",
    "<br>2. delete the record in the created_date or deleted_date greater than the current date, and check the stock_days record smaller than 0. \n",
    "<br>3. delete the record in the first registration year greater than the year of current date"
   ]
  },
  {
   "cell_type": "markdown",
   "id": "8d3fc6fc-f93a-4413-9d10-9a18ae1fd2a3",
   "metadata": {},
   "source": [
    "<font size = \"3\">Change the Dtype of ctr from object(str) to float64."
   ]
  },
  {
   "cell_type": "code",
   "execution_count": 12,
   "id": "a3fb512d-d437-4bb9-b5b0-564fe8e2daed",
   "metadata": {},
   "outputs": [
    {
     "name": "stdout",
     "output_type": "stream",
     "text": [
      "The object could not be converted to float64.\n"
     ]
    }
   ],
   "source": [
    "# Build up a new dataframe and try to turn the Dtype of ctr into float64\n",
    "df = df_org.copy()\n",
    "try:\n",
    "    df['ctr'] = df['ctr'].astype('float64')\n",
    "except ValueError:\n",
    "    print(\"The object could not be converted to float64.\")"
   ]
  },
  {
   "cell_type": "markdown",
   "id": "ce699550-2a8f-49d6-a786-e1cc364f6c50",
   "metadata": {},
   "source": [
    "<font size = \"3\">I find there is an error type in the ctr object so I decide to double check all the numbers."
   ]
  },
  {
   "cell_type": "code",
   "execution_count": 13,
   "id": "088cff76-5525-4974-959c-16fe8946afbc",
   "metadata": {},
   "outputs": [],
   "source": [
    "def isfloat(num:str):\n",
    "    \"\"\"\n",
    "    This is a function to determine whether a str could be turned into float or not.\n",
    "    input: str\n",
    "    ouput: Boolean\n",
    "    \"\"\"\n",
    "    try:\n",
    "        float(num)\n",
    "        return True\n",
    "    except ValueError:\n",
    "        return False"
   ]
  },
  {
   "cell_type": "code",
   "execution_count": 14,
   "id": "0962cc05-1814-4401-9ba2-89f3d4895e46",
   "metadata": {},
   "outputs": [
    {
     "name": "stdout",
     "output_type": "stream",
     "text": [
      "There are 82 value errors to turn into float dtype.\n"
     ]
    }
   ],
   "source": [
    "# Check the numbers of ctr value which could not be turned to float\n",
    "numbers_of_wrong_number = 0\n",
    "for index, value in enumerate(df['ctr']):\n",
    "    if not isfloat(value):\n",
    "        numbers_of_wrong_number += 1\n",
    "print(\"There are\", numbers_of_wrong_number, \"value errors to turn into float dtype.\")"
   ]
  },
  {
   "cell_type": "markdown",
   "id": "b04a3811-9540-419e-a662-911f6e5afd9f",
   "metadata": {},
   "source": [
    "<font size = \"3\">I decide to recalculate all the value for the ctr feature cause there are some errors."
   ]
  },
  {
   "cell_type": "code",
   "execution_count": 15,
   "id": "a4268c16-73b1-4088-b286-ae3ec19c1f4e",
   "metadata": {},
   "outputs": [],
   "source": [
    "# Calculate the ctr. ctr = # of detail views/ # of search views\n",
    "df['ctr'] = df['detail_views']/df['search_views']"
   ]
  },
  {
   "cell_type": "code",
   "execution_count": 16,
   "id": "422df0e3-7409-4d3b-b962-dcd08a61157a",
   "metadata": {},
   "outputs": [
    {
     "data": {
      "text/html": [
       "<div>\n",
       "<style scoped>\n",
       "    .dataframe tbody tr th:only-of-type {\n",
       "        vertical-align: middle;\n",
       "    }\n",
       "\n",
       "    .dataframe tbody tr th {\n",
       "        vertical-align: top;\n",
       "    }\n",
       "\n",
       "    .dataframe thead th {\n",
       "        text-align: right;\n",
       "    }\n",
       "</style>\n",
       "<table border=\"1\" class=\"dataframe\">\n",
       "  <thead>\n",
       "    <tr style=\"text-align: right;\">\n",
       "      <th></th>\n",
       "      <th>article_id</th>\n",
       "      <th>product_tier</th>\n",
       "      <th>make_name</th>\n",
       "      <th>price</th>\n",
       "      <th>first_zip_digit</th>\n",
       "      <th>first_registration_year</th>\n",
       "      <th>created_date</th>\n",
       "      <th>deleted_date</th>\n",
       "      <th>search_views</th>\n",
       "      <th>detail_views</th>\n",
       "      <th>stock_days</th>\n",
       "      <th>ctr</th>\n",
       "    </tr>\n",
       "  </thead>\n",
       "  <tbody>\n",
       "    <tr>\n",
       "      <th>32000</th>\n",
       "      <td>355652116</td>\n",
       "      <td>Basic</td>\n",
       "      <td>Fiat</td>\n",
       "      <td>6650</td>\n",
       "      <td>7</td>\n",
       "      <td>2008</td>\n",
       "      <td>28.08.18</td>\n",
       "      <td>28.08.18</td>\n",
       "      <td>12.0</td>\n",
       "      <td>22.0</td>\n",
       "      <td>0</td>\n",
       "      <td>1.833333</td>\n",
       "    </tr>\n",
       "    <tr>\n",
       "      <th>39172</th>\n",
       "      <td>351144455</td>\n",
       "      <td>Basic</td>\n",
       "      <td>Nissan</td>\n",
       "      <td>16970</td>\n",
       "      <td>1</td>\n",
       "      <td>2013</td>\n",
       "      <td>28.07.18</td>\n",
       "      <td>28.07.18</td>\n",
       "      <td>15.0</td>\n",
       "      <td>21.0</td>\n",
       "      <td>0</td>\n",
       "      <td>1.400000</td>\n",
       "    </tr>\n",
       "  </tbody>\n",
       "</table>\n",
       "</div>"
      ],
      "text/plain": [
       "       article_id product_tier make_name  price  first_zip_digit  \\\n",
       "32000   355652116        Basic      Fiat   6650                7   \n",
       "39172   351144455        Basic    Nissan  16970                1   \n",
       "\n",
       "       first_registration_year created_date deleted_date  search_views  \\\n",
       "32000                     2008     28.08.18     28.08.18          12.0   \n",
       "39172                     2013     28.07.18     28.07.18          15.0   \n",
       "\n",
       "       detail_views  stock_days       ctr  \n",
       "32000          22.0           0  1.833333  \n",
       "39172          21.0           0  1.400000  "
      ]
     },
     "execution_count": 16,
     "metadata": {},
     "output_type": "execute_result"
    }
   ],
   "source": [
    "# Check whether any ctr greater than 1. I will remove these records later.\n",
    "df.loc[df['ctr'] >1]"
   ]
  },
  {
   "cell_type": "markdown",
   "id": "9cd56e8f-0ce3-42c3-854b-53a527afe82b",
   "metadata": {},
   "source": [
    "<font size = \"3\"> Remove the record which created date or deleted date greater than the current date, and check the stock_days record less than 0. \n",
    "<br>Stock_days definition: Time in days between the creation of the listing and the deletion of the listing\n"
   ]
  },
  {
   "cell_type": "code",
   "execution_count": 17,
   "id": "8e9478f4-b81f-4c3a-b8e6-6dce3de7c963",
   "metadata": {},
   "outputs": [
    {
     "data": {
      "text/html": [
       "<div>\n",
       "<style scoped>\n",
       "    .dataframe tbody tr th:only-of-type {\n",
       "        vertical-align: middle;\n",
       "    }\n",
       "\n",
       "    .dataframe tbody tr th {\n",
       "        vertical-align: top;\n",
       "    }\n",
       "\n",
       "    .dataframe thead th {\n",
       "        text-align: right;\n",
       "    }\n",
       "</style>\n",
       "<table border=\"1\" class=\"dataframe\">\n",
       "  <thead>\n",
       "    <tr style=\"text-align: right;\">\n",
       "      <th></th>\n",
       "      <th>article_id</th>\n",
       "      <th>product_tier</th>\n",
       "      <th>make_name</th>\n",
       "      <th>price</th>\n",
       "      <th>first_zip_digit</th>\n",
       "      <th>first_registration_year</th>\n",
       "      <th>created_date</th>\n",
       "      <th>deleted_date</th>\n",
       "      <th>search_views</th>\n",
       "      <th>detail_views</th>\n",
       "      <th>stock_days</th>\n",
       "      <th>ctr</th>\n",
       "    </tr>\n",
       "  </thead>\n",
       "  <tbody>\n",
       "    <tr>\n",
       "      <th>161</th>\n",
       "      <td>359768765</td>\n",
       "      <td>Basic</td>\n",
       "      <td>MINI</td>\n",
       "      <td>19950</td>\n",
       "      <td>7</td>\n",
       "      <td>2011</td>\n",
       "      <td>04.10.18</td>\n",
       "      <td>04.10.18</td>\n",
       "      <td>4.0</td>\n",
       "      <td>1.0</td>\n",
       "      <td>-1</td>\n",
       "      <td>0.250000</td>\n",
       "    </tr>\n",
       "    <tr>\n",
       "      <th>873</th>\n",
       "      <td>362809203</td>\n",
       "      <td>Basic</td>\n",
       "      <td>Toyota</td>\n",
       "      <td>13495</td>\n",
       "      <td>3</td>\n",
       "      <td>2014</td>\n",
       "      <td>08.11.18</td>\n",
       "      <td>09.11.18</td>\n",
       "      <td>85.0</td>\n",
       "      <td>0.0</td>\n",
       "      <td>-1</td>\n",
       "      <td>0.000000</td>\n",
       "    </tr>\n",
       "    <tr>\n",
       "      <th>1269</th>\n",
       "      <td>347248705</td>\n",
       "      <td>Basic</td>\n",
       "      <td>Volkswagen</td>\n",
       "      <td>13925</td>\n",
       "      <td>7</td>\n",
       "      <td>2013</td>\n",
       "      <td>04.07.18</td>\n",
       "      <td>04.07.18</td>\n",
       "      <td>29.0</td>\n",
       "      <td>5.0</td>\n",
       "      <td>-1</td>\n",
       "      <td>0.172414</td>\n",
       "    </tr>\n",
       "    <tr>\n",
       "      <th>5095</th>\n",
       "      <td>357831511</td>\n",
       "      <td>Basic</td>\n",
       "      <td>Bentley</td>\n",
       "      <td>69950</td>\n",
       "      <td>1</td>\n",
       "      <td>2007</td>\n",
       "      <td>12.09.18</td>\n",
       "      <td>12.09.18</td>\n",
       "      <td>47.0</td>\n",
       "      <td>0.0</td>\n",
       "      <td>-1</td>\n",
       "      <td>0.000000</td>\n",
       "    </tr>\n",
       "    <tr>\n",
       "      <th>5477</th>\n",
       "      <td>348703289</td>\n",
       "      <td>Basic</td>\n",
       "      <td>Chevrolet</td>\n",
       "      <td>18900</td>\n",
       "      <td>7</td>\n",
       "      <td>1966</td>\n",
       "      <td>12.07.18</td>\n",
       "      <td>12.07.18</td>\n",
       "      <td>100.0</td>\n",
       "      <td>19.0</td>\n",
       "      <td>-1</td>\n",
       "      <td>0.190000</td>\n",
       "    </tr>\n",
       "    <tr>\n",
       "      <th>...</th>\n",
       "      <td>...</td>\n",
       "      <td>...</td>\n",
       "      <td>...</td>\n",
       "      <td>...</td>\n",
       "      <td>...</td>\n",
       "      <td>...</td>\n",
       "      <td>...</td>\n",
       "      <td>...</td>\n",
       "      <td>...</td>\n",
       "      <td>...</td>\n",
       "      <td>...</td>\n",
       "      <td>...</td>\n",
       "    </tr>\n",
       "    <tr>\n",
       "      <th>76209</th>\n",
       "      <td>362810854</td>\n",
       "      <td>Basic</td>\n",
       "      <td>Audi</td>\n",
       "      <td>4450</td>\n",
       "      <td>7</td>\n",
       "      <td>2005</td>\n",
       "      <td>08.11.18</td>\n",
       "      <td>08.11.18</td>\n",
       "      <td>74.0</td>\n",
       "      <td>8.0</td>\n",
       "      <td>-1</td>\n",
       "      <td>0.108108</td>\n",
       "    </tr>\n",
       "    <tr>\n",
       "      <th>77128</th>\n",
       "      <td>364284041</td>\n",
       "      <td>Basic</td>\n",
       "      <td>Volkswagen</td>\n",
       "      <td>2950</td>\n",
       "      <td>1</td>\n",
       "      <td>2007</td>\n",
       "      <td>24.11.18</td>\n",
       "      <td>24.11.18</td>\n",
       "      <td>156.0</td>\n",
       "      <td>19.0</td>\n",
       "      <td>-1</td>\n",
       "      <td>0.121795</td>\n",
       "    </tr>\n",
       "    <tr>\n",
       "      <th>77676</th>\n",
       "      <td>358519572</td>\n",
       "      <td>Basic</td>\n",
       "      <td>Mercedes-Benz</td>\n",
       "      <td>34950</td>\n",
       "      <td>7</td>\n",
       "      <td>2017</td>\n",
       "      <td>20.09.18</td>\n",
       "      <td>20.09.18</td>\n",
       "      <td>16.0</td>\n",
       "      <td>0.0</td>\n",
       "      <td>-1</td>\n",
       "      <td>0.000000</td>\n",
       "    </tr>\n",
       "    <tr>\n",
       "      <th>77808</th>\n",
       "      <td>363557939</td>\n",
       "      <td>Basic</td>\n",
       "      <td>Nissan</td>\n",
       "      <td>6485</td>\n",
       "      <td>7</td>\n",
       "      <td>2010</td>\n",
       "      <td>16.11.18</td>\n",
       "      <td>16.11.18</td>\n",
       "      <td>137.0</td>\n",
       "      <td>8.0</td>\n",
       "      <td>-1</td>\n",
       "      <td>0.058394</td>\n",
       "    </tr>\n",
       "    <tr>\n",
       "      <th>77954</th>\n",
       "      <td>361480979</td>\n",
       "      <td>Basic</td>\n",
       "      <td>Volkswagen</td>\n",
       "      <td>1950</td>\n",
       "      <td>7</td>\n",
       "      <td>2003</td>\n",
       "      <td>24.10.18</td>\n",
       "      <td>24.10.18</td>\n",
       "      <td>184.0</td>\n",
       "      <td>13.0</td>\n",
       "      <td>-1</td>\n",
       "      <td>0.070652</td>\n",
       "    </tr>\n",
       "  </tbody>\n",
       "</table>\n",
       "<p>93 rows × 12 columns</p>\n",
       "</div>"
      ],
      "text/plain": [
       "       article_id product_tier      make_name  price  first_zip_digit  \\\n",
       "161     359768765        Basic           MINI  19950                7   \n",
       "873     362809203        Basic         Toyota  13495                3   \n",
       "1269    347248705        Basic     Volkswagen  13925                7   \n",
       "5095    357831511        Basic        Bentley  69950                1   \n",
       "5477    348703289        Basic      Chevrolet  18900                7   \n",
       "...           ...          ...            ...    ...              ...   \n",
       "76209   362810854        Basic           Audi   4450                7   \n",
       "77128   364284041        Basic     Volkswagen   2950                1   \n",
       "77676   358519572        Basic  Mercedes-Benz  34950                7   \n",
       "77808   363557939        Basic         Nissan   6485                7   \n",
       "77954   361480979        Basic     Volkswagen   1950                7   \n",
       "\n",
       "       first_registration_year created_date deleted_date  search_views  \\\n",
       "161                       2011     04.10.18     04.10.18           4.0   \n",
       "873                       2014     08.11.18     09.11.18          85.0   \n",
       "1269                      2013     04.07.18     04.07.18          29.0   \n",
       "5095                      2007     12.09.18     12.09.18          47.0   \n",
       "5477                      1966     12.07.18     12.07.18         100.0   \n",
       "...                        ...          ...          ...           ...   \n",
       "76209                     2005     08.11.18     08.11.18          74.0   \n",
       "77128                     2007     24.11.18     24.11.18         156.0   \n",
       "77676                     2017     20.09.18     20.09.18          16.0   \n",
       "77808                     2010     16.11.18     16.11.18         137.0   \n",
       "77954                     2003     24.10.18     24.10.18         184.0   \n",
       "\n",
       "       detail_views  stock_days       ctr  \n",
       "161             1.0          -1  0.250000  \n",
       "873             0.0          -1  0.000000  \n",
       "1269            5.0          -1  0.172414  \n",
       "5095            0.0          -1  0.000000  \n",
       "5477           19.0          -1  0.190000  \n",
       "...             ...         ...       ...  \n",
       "76209           8.0          -1  0.108108  \n",
       "77128          19.0          -1  0.121795  \n",
       "77676           0.0          -1  0.000000  \n",
       "77808           8.0          -1  0.058394  \n",
       "77954          13.0          -1  0.070652  \n",
       "\n",
       "[93 rows x 12 columns]"
      ]
     },
     "execution_count": 17,
     "metadata": {},
     "output_type": "execute_result"
    }
   ],
   "source": [
    "# check the stock days < 0\n",
    "df.loc[df['stock_days'] < 0]"
   ]
  },
  {
   "cell_type": "code",
   "execution_count": 18,
   "id": "7cc05c0e-2357-4e96-a223-de66eaca2364",
   "metadata": {},
   "outputs": [],
   "source": [
    "# Convert the Dtype from string to datetime. Then I can calculate the stock days based on the created_date and deleted_date.\n",
    "# First, trim all strings to remove any space.\n",
    "# Second, convert all the strings into datetime.\n",
    "\n",
    "df['created_date'] = df['created_date'].replace({\" \": ''}, regex = True)\n",
    "df['created_date'] = pd.to_datetime(df['created_date'], format = \"%d.%m.%y\")\n",
    "\n",
    "df['deleted_date'] = df['deleted_date'].replace({\" \": ''}, regex = True)\n",
    "df['deleted_date'] = pd.to_datetime(df['deleted_date'], format = \"%d.%m.%y\")"
   ]
  },
  {
   "cell_type": "code",
   "execution_count": 19,
   "id": "bace0ef5-5332-48bc-9451-8404177f183b",
   "metadata": {},
   "outputs": [
    {
     "data": {
      "text/html": [
       "<div>\n",
       "<style scoped>\n",
       "    .dataframe tbody tr th:only-of-type {\n",
       "        vertical-align: middle;\n",
       "    }\n",
       "\n",
       "    .dataframe tbody tr th {\n",
       "        vertical-align: top;\n",
       "    }\n",
       "\n",
       "    .dataframe thead th {\n",
       "        text-align: right;\n",
       "    }\n",
       "</style>\n",
       "<table border=\"1\" class=\"dataframe\">\n",
       "  <thead>\n",
       "    <tr style=\"text-align: right;\">\n",
       "      <th></th>\n",
       "      <th>article_id</th>\n",
       "      <th>product_tier</th>\n",
       "      <th>make_name</th>\n",
       "      <th>price</th>\n",
       "      <th>first_zip_digit</th>\n",
       "      <th>first_registration_year</th>\n",
       "      <th>created_date</th>\n",
       "      <th>deleted_date</th>\n",
       "      <th>search_views</th>\n",
       "      <th>detail_views</th>\n",
       "      <th>stock_days</th>\n",
       "      <th>ctr</th>\n",
       "    </tr>\n",
       "  </thead>\n",
       "  <tbody>\n",
       "  </tbody>\n",
       "</table>\n",
       "</div>"
      ],
      "text/plain": [
       "Empty DataFrame\n",
       "Columns: [article_id, product_tier, make_name, price, first_zip_digit, first_registration_year, created_date, deleted_date, search_views, detail_views, stock_days, ctr]\n",
       "Index: []"
      ]
     },
     "execution_count": 19,
     "metadata": {},
     "output_type": "execute_result"
    }
   ],
   "source": [
    "# confrim: there is no created_date or deleted_date greater than today\n",
    "# confirm: there is no created_date > deleted_date\n",
    "\n",
    "df.loc[df['created_date'] > pd.to_datetime('today')]\n",
    "df.loc[df['deleted_date'] > pd.to_datetime('today')]\n",
    "df.loc[df['created_date'] > df['deleted_date']]"
   ]
  },
  {
   "cell_type": "markdown",
   "id": "639e5cdf-e073-43b0-a73f-2fe6acb8ade8",
   "metadata": {},
   "source": [
    "<font size = \"3\"> Recalculate the stock days"
   ]
  },
  {
   "cell_type": "code",
   "execution_count": 20,
   "id": "bf56b82a-c4bb-427a-9928-ad7e5102bdd2",
   "metadata": {},
   "outputs": [
    {
     "data": {
      "text/html": [
       "<div>\n",
       "<style scoped>\n",
       "    .dataframe tbody tr th:only-of-type {\n",
       "        vertical-align: middle;\n",
       "    }\n",
       "\n",
       "    .dataframe tbody tr th {\n",
       "        vertical-align: top;\n",
       "    }\n",
       "\n",
       "    .dataframe thead th {\n",
       "        text-align: right;\n",
       "    }\n",
       "</style>\n",
       "<table border=\"1\" class=\"dataframe\">\n",
       "  <thead>\n",
       "    <tr style=\"text-align: right;\">\n",
       "      <th></th>\n",
       "      <th>article_id</th>\n",
       "      <th>product_tier</th>\n",
       "      <th>make_name</th>\n",
       "      <th>price</th>\n",
       "      <th>first_zip_digit</th>\n",
       "      <th>first_registration_year</th>\n",
       "      <th>created_date</th>\n",
       "      <th>deleted_date</th>\n",
       "      <th>search_views</th>\n",
       "      <th>detail_views</th>\n",
       "      <th>stock_days</th>\n",
       "      <th>ctr</th>\n",
       "    </tr>\n",
       "  </thead>\n",
       "  <tbody>\n",
       "  </tbody>\n",
       "</table>\n",
       "</div>"
      ],
      "text/plain": [
       "Empty DataFrame\n",
       "Columns: [article_id, product_tier, make_name, price, first_zip_digit, first_registration_year, created_date, deleted_date, search_views, detail_views, stock_days, ctr]\n",
       "Index: []"
      ]
     },
     "execution_count": 20,
     "metadata": {},
     "output_type": "execute_result"
    }
   ],
   "source": [
    "# Calculate the stock days\n",
    "df['stock_days'] = (df['deleted_date'] - df['created_date']).dt.days\n",
    "# confirm: there is no stock days less than 0.\n",
    "df.loc[df['stock_days'] < 0]"
   ]
  },
  {
   "cell_type": "markdown",
   "id": "5043e272-3229-4f53-8ed2-c2d6fe31261e",
   "metadata": {},
   "source": [
    "<font size = \"3\"> Check any record in the first registration year greater than the year of the current year."
   ]
  },
  {
   "cell_type": "code",
   "execution_count": 21,
   "id": "f8ac9936-1982-405b-8608-231ed26bb447",
   "metadata": {},
   "outputs": [
    {
     "data": {
      "text/html": [
       "<div>\n",
       "<style scoped>\n",
       "    .dataframe tbody tr th:only-of-type {\n",
       "        vertical-align: middle;\n",
       "    }\n",
       "\n",
       "    .dataframe tbody tr th {\n",
       "        vertical-align: top;\n",
       "    }\n",
       "\n",
       "    .dataframe thead th {\n",
       "        text-align: right;\n",
       "    }\n",
       "</style>\n",
       "<table border=\"1\" class=\"dataframe\">\n",
       "  <thead>\n",
       "    <tr style=\"text-align: right;\">\n",
       "      <th></th>\n",
       "      <th>article_id</th>\n",
       "      <th>product_tier</th>\n",
       "      <th>make_name</th>\n",
       "      <th>price</th>\n",
       "      <th>first_zip_digit</th>\n",
       "      <th>first_registration_year</th>\n",
       "      <th>created_date</th>\n",
       "      <th>deleted_date</th>\n",
       "      <th>search_views</th>\n",
       "      <th>detail_views</th>\n",
       "      <th>stock_days</th>\n",
       "      <th>ctr</th>\n",
       "    </tr>\n",
       "  </thead>\n",
       "  <tbody>\n",
       "    <tr>\n",
       "      <th>36302</th>\n",
       "      <td>358877131</td>\n",
       "      <td>Basic</td>\n",
       "      <td>Opel</td>\n",
       "      <td>9250</td>\n",
       "      <td>7</td>\n",
       "      <td>2106</td>\n",
       "      <td>2018-09-24</td>\n",
       "      <td>2018-09-26</td>\n",
       "      <td>113.0</td>\n",
       "      <td>5.0</td>\n",
       "      <td>2</td>\n",
       "      <td>0.044248</td>\n",
       "    </tr>\n",
       "  </tbody>\n",
       "</table>\n",
       "</div>"
      ],
      "text/plain": [
       "       article_id product_tier make_name  price  first_zip_digit  \\\n",
       "36302   358877131        Basic      Opel   9250                7   \n",
       "\n",
       "       first_registration_year created_date deleted_date  search_views  \\\n",
       "36302                     2106   2018-09-24   2018-09-26         113.0   \n",
       "\n",
       "       detail_views  stock_days       ctr  \n",
       "36302           5.0           2  0.044248  "
      ]
     },
     "execution_count": 21,
     "metadata": {},
     "output_type": "execute_result"
    }
   ],
   "source": [
    "df.loc[df['first_registration_year']>pd.to_datetime('today').year]"
   ]
  },
  {
   "cell_type": "markdown",
   "id": "4099d13b-4959-4c4e-8e22-aec00ced937b",
   "metadata": {},
   "source": [
    "<font size = \"3\">Drop the records in which first_registration_year is greater than the current year, search_views is null, or ctr is greater than 1."
   ]
  },
  {
   "cell_type": "code",
   "execution_count": 22,
   "id": "8d625396-8508-4a28-9271-550a4c7e56eb",
   "metadata": {},
   "outputs": [],
   "source": [
    "# Drop the record.\n",
    "df = df.drop(index = df.loc[df['first_registration_year']>pd.to_datetime('today').year].index)\n",
    "df = df.drop(index = df.loc[df['search_views'].isnull()].index)\n",
    "df = df.drop(index = df.loc[df['ctr'] > 1 ].index)\n",
    "\n",
    "# reindex the dataframe\n",
    "df.index = range(len(df))"
   ]
  },
  {
   "cell_type": "code",
   "execution_count": 23,
   "id": "a7edd3b6-f25e-428b-88fd-4fe1e2708214",
   "metadata": {},
   "outputs": [],
   "source": [
    "# Deal with null records in views and ctr. I will turn NaN to 0.\n",
    "j = df.isnull().sum()\n",
    "for index,i in enumerate(j):\n",
    "    if i > 0:\n",
    "        df[df.columns[index]].fillna(0,inplace=True)"
   ]
  },
  {
   "cell_type": "markdown",
   "id": "9616f02e-d72c-46bf-9b6b-4b7c879f24d4",
   "metadata": {},
   "source": [
    "<font size =\"5\">End data cleaning - Double check the dataset after preprocessing </font>"
   ]
  },
  {
   "cell_type": "code",
   "execution_count": 24,
   "id": "d6b2cc62-6ad3-4d20-a11d-ba40cf32b28c",
   "metadata": {},
   "outputs": [
    {
     "name": "stdout",
     "output_type": "stream",
     "text": [
      "<class 'pandas.core.frame.DataFrame'>\n",
      "RangeIndex: 78308 entries, 0 to 78307\n",
      "Data columns (total 12 columns):\n",
      " #   Column                   Non-Null Count  Dtype         \n",
      "---  ------                   --------------  -----         \n",
      " 0   article_id               78308 non-null  int64         \n",
      " 1   product_tier             78308 non-null  object        \n",
      " 2   make_name                78308 non-null  object        \n",
      " 3   price                    78308 non-null  int64         \n",
      " 4   first_zip_digit          78308 non-null  int64         \n",
      " 5   first_registration_year  78308 non-null  int64         \n",
      " 6   created_date             78308 non-null  datetime64[ns]\n",
      " 7   deleted_date             78308 non-null  datetime64[ns]\n",
      " 8   search_views             78308 non-null  float64       \n",
      " 9   detail_views             78308 non-null  float64       \n",
      " 10  stock_days               78308 non-null  int64         \n",
      " 11  ctr                      78308 non-null  float64       \n",
      "dtypes: datetime64[ns](2), float64(3), int64(5), object(2)\n",
      "memory usage: 7.2+ MB\n"
     ]
    }
   ],
   "source": [
    "df.info()"
   ]
  },
  {
   "cell_type": "code",
   "execution_count": 24,
   "id": "f81d5fd1-2ca3-434e-b87c-9327279ecb1b",
   "metadata": {},
   "outputs": [
    {
     "data": {
      "text/html": [
       "<div>\n",
       "<style scoped>\n",
       "    .dataframe tbody tr th:only-of-type {\n",
       "        vertical-align: middle;\n",
       "    }\n",
       "\n",
       "    .dataframe tbody tr th {\n",
       "        vertical-align: top;\n",
       "    }\n",
       "\n",
       "    .dataframe thead th {\n",
       "        text-align: right;\n",
       "    }\n",
       "</style>\n",
       "<table border=\"1\" class=\"dataframe\">\n",
       "  <thead>\n",
       "    <tr style=\"text-align: right;\">\n",
       "      <th></th>\n",
       "      <th>article_id</th>\n",
       "      <th>price</th>\n",
       "      <th>first_zip_digit</th>\n",
       "      <th>first_registration_year</th>\n",
       "      <th>search_views</th>\n",
       "      <th>detail_views</th>\n",
       "      <th>stock_days</th>\n",
       "      <th>ctr</th>\n",
       "    </tr>\n",
       "  </thead>\n",
       "  <tbody>\n",
       "    <tr>\n",
       "      <th>count</th>\n",
       "      <td>7.830800e+04</td>\n",
       "      <td>78308.000000</td>\n",
       "      <td>78308.000000</td>\n",
       "      <td>78308.000000</td>\n",
       "      <td>78308.000000</td>\n",
       "      <td>78308.000000</td>\n",
       "      <td>78308.000000</td>\n",
       "      <td>78308.000000</td>\n",
       "    </tr>\n",
       "    <tr>\n",
       "      <th>mean</th>\n",
       "      <td>3.574871e+08</td>\n",
       "      <td>15069.234523</td>\n",
       "      <td>4.632068</td>\n",
       "      <td>2011.089046</td>\n",
       "      <td>2297.588752</td>\n",
       "      <td>93.472838</td>\n",
       "      <td>35.988711</td>\n",
       "      <td>0.046844</td>\n",
       "    </tr>\n",
       "    <tr>\n",
       "      <th>std</th>\n",
       "      <td>5.076672e+06</td>\n",
       "      <td>16375.302568</td>\n",
       "      <td>2.354324</td>\n",
       "      <td>6.529684</td>\n",
       "      <td>6339.140532</td>\n",
       "      <td>228.029446</td>\n",
       "      <td>32.213590</td>\n",
       "      <td>0.037986</td>\n",
       "    </tr>\n",
       "    <tr>\n",
       "      <th>min</th>\n",
       "      <td>3.472324e+08</td>\n",
       "      <td>50.000000</td>\n",
       "      <td>1.000000</td>\n",
       "      <td>1924.000000</td>\n",
       "      <td>0.000000</td>\n",
       "      <td>0.000000</td>\n",
       "      <td>0.000000</td>\n",
       "      <td>0.000000</td>\n",
       "    </tr>\n",
       "    <tr>\n",
       "      <th>25%</th>\n",
       "      <td>3.536387e+08</td>\n",
       "      <td>5750.000000</td>\n",
       "      <td>3.000000</td>\n",
       "      <td>2008.000000</td>\n",
       "      <td>367.000000</td>\n",
       "      <td>13.000000</td>\n",
       "      <td>10.000000</td>\n",
       "      <td>0.024257</td>\n",
       "    </tr>\n",
       "    <tr>\n",
       "      <th>50%</th>\n",
       "      <td>3.585479e+08</td>\n",
       "      <td>10909.000000</td>\n",
       "      <td>5.000000</td>\n",
       "      <td>2013.000000</td>\n",
       "      <td>920.000000</td>\n",
       "      <td>36.000000</td>\n",
       "      <td>25.000000</td>\n",
       "      <td>0.038225</td>\n",
       "    </tr>\n",
       "    <tr>\n",
       "      <th>75%</th>\n",
       "      <td>3.614817e+08</td>\n",
       "      <td>18890.000000</td>\n",
       "      <td>7.000000</td>\n",
       "      <td>2015.000000</td>\n",
       "      <td>2234.000000</td>\n",
       "      <td>94.000000</td>\n",
       "      <td>55.000000</td>\n",
       "      <td>0.058676</td>\n",
       "    </tr>\n",
       "    <tr>\n",
       "      <th>max</th>\n",
       "      <td>3.647040e+08</td>\n",
       "      <td>249888.000000</td>\n",
       "      <td>9.000000</td>\n",
       "      <td>2020.000000</td>\n",
       "      <td>608754.000000</td>\n",
       "      <td>13926.000000</td>\n",
       "      <td>126.000000</td>\n",
       "      <td>1.000000</td>\n",
       "    </tr>\n",
       "  </tbody>\n",
       "</table>\n",
       "</div>"
      ],
      "text/plain": [
       "         article_id          price  first_zip_digit  first_registration_year  \\\n",
       "count  7.830800e+04   78308.000000     78308.000000             78308.000000   \n",
       "mean   3.574871e+08   15069.234523         4.632068              2011.089046   \n",
       "std    5.076672e+06   16375.302568         2.354324                 6.529684   \n",
       "min    3.472324e+08      50.000000         1.000000              1924.000000   \n",
       "25%    3.536387e+08    5750.000000         3.000000              2008.000000   \n",
       "50%    3.585479e+08   10909.000000         5.000000              2013.000000   \n",
       "75%    3.614817e+08   18890.000000         7.000000              2015.000000   \n",
       "max    3.647040e+08  249888.000000         9.000000              2020.000000   \n",
       "\n",
       "        search_views  detail_views    stock_days           ctr  \n",
       "count   78308.000000  78308.000000  78308.000000  78308.000000  \n",
       "mean     2297.588752     93.472838     35.988711      0.046844  \n",
       "std      6339.140532    228.029446     32.213590      0.037986  \n",
       "min         0.000000      0.000000      0.000000      0.000000  \n",
       "25%       367.000000     13.000000     10.000000      0.024257  \n",
       "50%       920.000000     36.000000     25.000000      0.038225  \n",
       "75%      2234.000000     94.000000     55.000000      0.058676  \n",
       "max    608754.000000  13926.000000    126.000000      1.000000  "
      ]
     },
     "execution_count": 24,
     "metadata": {},
     "output_type": "execute_result"
    }
   ],
   "source": [
    "df.describe()"
   ]
  },
  {
   "cell_type": "code",
   "execution_count": 33,
   "id": "5e183f59-2dbb-4596-9a7c-5f15d8893878",
   "metadata": {},
   "outputs": [
    {
     "data": {
      "text/plain": [
       "price              AxesSubplot(0.125,0.536818;0.227941x0.343182)\n",
       "search_views    AxesSubplot(0.398529,0.536818;0.227941x0.343182)\n",
       "detail_views    AxesSubplot(0.672059,0.536818;0.227941x0.343182)\n",
       "stock_days            AxesSubplot(0.125,0.125;0.227941x0.343182)\n",
       "ctr                AxesSubplot(0.398529,0.125;0.227941x0.343182)\n",
       "dtype: object"
      ]
     },
     "execution_count": 33,
     "metadata": {},
     "output_type": "execute_result"
    },
    {
     "data": {
      "image/png": "[encoded data removed]",
      "text/plain": [
       "<Figure size 1008x576 with 6 Axes>"
      ]
     },
     "metadata": {
      "needs_background": "light"
     },
     "output_type": "display_data"
    }
   ],
   "source": [
    "boxplot_col = ['price', 'search_views', 'detail_views', 'stock_days', 'ctr']\n",
    "\n",
    "df[boxplot_col].plot(kind = 'box', subplots = True, layout = (2,3), figsize=(14, 8))"
   ]
  },
  {
   "cell_type": "code",
   "execution_count": 25,
   "id": "f089495a-f381-4068-8fff-be791cbc536c",
   "metadata": {},
   "outputs": [
    {
     "data": {
      "text/plain": [
       "article_id                 0\n",
       "product_tier               0\n",
       "make_name                  0\n",
       "price                      0\n",
       "first_zip_digit            0\n",
       "first_registration_year    0\n",
       "created_date               0\n",
       "deleted_date               0\n",
       "search_views               0\n",
       "detail_views               0\n",
       "stock_days                 0\n",
       "ctr                        0\n",
       "dtype: int64"
      ]
     },
     "execution_count": 25,
     "metadata": {},
     "output_type": "execute_result"
    }
   ],
   "source": [
    "df.isnull().sum()"
   ]
  },
  {
   "cell_type": "markdown",
   "id": "541d1db6-9138-4310-b45f-4a8e0cd60cb2",
   "metadata": {},
   "source": [
    "<font size=\"5\"> Step 3 data preprocessing <font>"
   ]
  },
  {
   "cell_type": "markdown",
   "id": "afb044c6-7584-41b8-af9f-3364c364b72c",
   "metadata": {},
   "source": [
    "<font size = \"3\">Create a new feature called cd_dow from the day of the week of the created date of the article. I assume the post's date might have a relationship to the product tier."
   ]
  },
  {
   "cell_type": "code",
   "execution_count": 26,
   "id": "403f5951-f3e0-408b-94b6-c027da541e04",
   "metadata": {},
   "outputs": [],
   "source": [
    "df['cd_dow'] = df['created_date'].dt.dayofweek"
   ]
  },
  {
   "cell_type": "markdown",
   "id": "d90046d8-d691-41e8-ad75-1fc4ddadc2f1",
   "metadata": {},
   "source": [
    "<font size=\"5\"> Step 4 data splitting <font>"
   ]
  },
  {
   "cell_type": "code",
   "execution_count": 27,
   "id": "73c49310-23af-46b6-bfb0-b6dc6a5ae387",
   "metadata": {},
   "outputs": [],
   "source": [
    "def create_dummy(df):\n",
    "    \"\"\"\n",
    "    This function can turn the dataframe with categorical value into dummy variables.\n",
    "    input: dataframe\n",
    "    output: data frame with dummy variables\n",
    "    \"\"\"\n",
    "    \n",
    "    df = pd.get_dummies(df)\n",
    "    return df"
   ]
  },
  {
   "cell_type": "markdown",
   "id": "c7090765-ece2-422c-a76a-88f1b355bae7",
   "metadata": {},
   "source": [
    "<font size = \"3\"> After I run the RandomForest model, I get the average feature importance: { make_name:0.084, price:0.109, first_zip_digit: 0.089, first_registration_year: 0.088, search_views:0.173, detail_views:0.128, stock_days: 0.147, ctr: 0.127, cd_dow: 0.054}.\n",
    "<br> I decide to drop the lowest feature importance first. Because the value of feature importance in make_name, first_zip_digit, first_registration_year are too closed, I decide to keep them all at this moment. \n",
    "<br> The final features are price, search_views, detail_views, stock_days, ctr, make_name, first_zip_digit, first_registration_year."
   ]
  },
  {
   "cell_type": "code",
   "execution_count": 28,
   "id": "a6c22a2e-22da-41ad-b93a-4da071b410a7",
   "metadata": {},
   "outputs": [],
   "source": [
    "#Create X\n",
    "\n",
    "X = df.drop(columns = ['article_id', 'product_tier', 'created_date', 'deleted_date', 'cd_dow' ])\n",
    "\n",
    "#Turn the make name from string to label(0,1,2,3...)\n",
    "lee = LabelEncoder()\n",
    "lee.fit(df['make_name'])\n",
    "X['make_name'] = lee.transform(df['make_name'])\n",
    "\n",
    "#Create\n",
    "# Turn the product tier from string to label(0,1,2,3...)\n",
    "le = LabelEncoder()\n",
    "le.fit(df['product_tier'])\n",
    "y = le.transform(df['product_tier'])"
   ]
  },
  {
   "cell_type": "code",
   "execution_count": 29,
   "id": "46f783b6-8aad-4cb1-b66f-9f3c4b9f920b",
   "metadata": {},
   "outputs": [],
   "source": [
    "# Split the dataset, test/train = 20/80\n",
    "X_train, X_test, y_train, y_test = train_test_split(X, y, test_size=0.2)"
   ]
  },
  {
   "cell_type": "markdown",
   "id": "4efb944c-dfd4-4834-a2a9-c4faed134793",
   "metadata": {},
   "source": [
    "Because the product tier is imbalance, I use SMOTE to oversample the minority classes to see whether it can help."
   ]
  },
  {
   "cell_type": "code",
   "execution_count": 30,
   "id": "1ffe652c-37a8-4c2d-ad13-51f4cd0852c1",
   "metadata": {},
   "outputs": [],
   "source": [
    "# imbalance dataset, SMOTE\n",
    "# I use oversample the minority class 1.5 times.\n",
    "c = Counter(y_train)\n",
    "over = SMOTE(sampling_strategy= ({0: int(c[0]), 1: int(c[1]*1.5), 2: int(c[2]*1.5)}))\n",
    "\n",
    "# transform the training dataset, and also keep the original training set. \n",
    "X_train_o, y_train_o = over.fit_resample(X_train, y_train)"
   ]
  },
  {
   "cell_type": "code",
   "execution_count": 31,
   "id": "079582fb-5c22-49c6-bf90-09bb6a77819b",
   "metadata": {},
   "outputs": [
    {
     "name": "stdout",
     "output_type": "stream",
     "text": [
      "Original training data: Counter({0: 60355, 2: 1831, 1: 460}) , training dataset with oversampling: Counter({0: 60355, 2: 2746, 1: 690})\n"
     ]
    }
   ],
   "source": [
    "print(\"Original training data:\", Counter(y_train), \", training dataset with oversampling:\", Counter(y_train_o))"
   ]
  },
  {
   "cell_type": "markdown",
   "id": "5a457362-87c2-4bfe-aaa1-a0907737769a",
   "metadata": {},
   "source": [
    "<font size=\"5\"> Step 5 Question 1 -- Model running -- Is it possible to predict the product tier from the information given in the other columns?\n",
    "<br>Potential model: Naive Bayes Classifier and BalancedRandomForest. The reason why I pick BalancedRandomForest model is because this dataset has imbalance issue and high dimensions. Random Forest has the class weight parameter, bootstrap to avoid the imbalance issue and increase randomized and it is not hard to train with high dimensions dataset. Unlike SVM or KNN. Also, it performs well in Random Forest than Naive Bayes in this dataset."
   ]
  },
  {
   "cell_type": "code",
   "execution_count": 32,
   "id": "2ac0df80-04c6-4818-81e9-a49a66cb5ff7",
   "metadata": {},
   "outputs": [],
   "source": [
    "def evaluation(y, y_hat, index = ['Basic','Plus','Premium'], title = 'Confusion Matrix',):\n",
    "    \"\"\"\n",
    "    This is a function to create the confusion matrix.\n",
    "    Input: y:testing labels(array), y_hat: predicting labels(array), index: all the class label (list)\n",
    "    \"\"\"\n",
    "    cm = confusion_matrix(y, y_hat)\n",
    "    cm_df = pd.DataFrame(cm, index, columns = index)\n",
    "    precision = precision_score(y, y_hat,average =None)\n",
    "    recall = recall_score(y, y_hat, average =None)\n",
    "    accuracy = accuracy_score(y,y_hat)\n",
    "    f1 = f1_score(y,y_hat, average =None)\n",
    "    print('Recall: ', recall)\n",
    "    print('Accuracy: ', accuracy)\n",
    "    print('Precision: ', precision)\n",
    "    print('F1: ', f1)\n",
    "    sns.heatmap(cm_df, annot=True, fmt='g', annot_kws= {'size':20})\n",
    "    plt.xlabel('predicted', fontsize=18)\n",
    "    plt.ylabel('actual', fontsize=18)\n",
    "    plt.title(title, fontsize=18)\n",
    "    \n",
    "    plt.show()"
   ]
  },
  {
   "cell_type": "code",
   "execution_count": 33,
   "id": "52a9b941-1433-49cf-9b01-436d5d681f49",
   "metadata": {},
   "outputs": [],
   "source": [
    "def cross_validate(classifier, df_X_train, df_y_train,  cv = KFold(shuffle = True)):\n",
    "    \"\"\"\n",
    "    This function is to cross validate the result. Normally, we use Kfold.\n",
    "    input: classifier, X_train: training dataset(dataframe), y_train: training labels(series), cv: cross validation model\n",
    "    output: average value of the 25 outputs, including training, testing arruacy and recall.\n",
    "    \"\"\"\n",
    "    # clf = Pipeline(steps=[\n",
    "    #     ('preprocess', preprocess),\n",
    "    #     ('classifier', classifier)\n",
    "    # ])\n",
    "    \n",
    "    train_acc_list = []\n",
    "    val_acc_list = []\n",
    "    train_recall_list = []\n",
    "    val_recall_list = []\n",
    "    train_f1_list = []\n",
    "    val_f1_list = []\n",
    "    \n",
    "    #Run 5 times cross_validation and return the average result\n",
    "    for _ in range(5):\n",
    "        \n",
    "        train_acc = []\n",
    "        val_acc = []\n",
    "        train_recall = []\n",
    "        val_recall = []\n",
    "        train_f1 = []\n",
    "        val_f1 = []\n",
    "        \n",
    "        for train_ind, val_ind in cv.split(df_X_train, df_y_train):\n",
    "            X_t, y_t = df_X_train.iloc[train_ind], df_y_train[train_ind]\n",
    "            classifier.fit(X_t, y_t)\n",
    "            y_hat_t = classifier.predict(X_t)\n",
    "            train_acc.append(accuracy_score(y_t, y_hat_t))\n",
    "            train_recall.append(recall_score(y_t, y_hat_t, average =None))\n",
    "            train_f1.append(f1_score(y_t, y_hat_t, average =None))\n",
    "            \n",
    "            X_val, y_val = df_X_train.iloc[val_ind], df_y_train[val_ind]\n",
    "            y_hat_val = classifier.predict(X_val)\n",
    "            val_acc.append(accuracy_score(y_val, y_hat_val))\n",
    "            val_recall.append(recall_score(y_val, y_hat_val, average =None))\n",
    "            val_f1.append(f1_score(y_val, y_hat_val, average =None))\n",
    "            # If you want to show the visulization at every cross validation and show the feature importance just uncomment the following code.\n",
    "            # print(evaluation(y_val, y_hat_val))\n",
    "            # print(classifier.feature_importances_)\n",
    "        \n",
    "        train_acc_list.append(train_acc)\n",
    "        val_acc_list.append(val_acc)\n",
    "        train_recall_list.append(train_recall)\n",
    "        val_recall_list.append(val_recall)\n",
    "        train_f1_list.append(train_f1)\n",
    "        val_f1_list.append(val_f1)\n",
    "    \n",
    "    return train_acc_list, val_acc_list, train_recall_list, val_recall_list, train_f1_list, val_f1_list"
   ]
  },
  {
   "cell_type": "markdown",
   "id": "89b974e6-98f2-411b-8252-f128473d886e",
   "metadata": {},
   "source": [
    "<font size = \"4\">Run the model. I focus on the F1 metric because the FN or FP has a similar business situation. I assume this tag will be a criterion for the customers to filter the car or sort the cars. If the customers choose a specific tier of cars and the quality of the tag is not good. It will break the customers' trust in us and make the customers more confused. So I will look at F1 score, also keep tracking the Recall and Precision."
   ]
  },
  {
   "cell_type": "code",
   "execution_count": 34,
   "id": "7d5c7b37-0fbe-4dca-a854-3100e9af50df",
   "metadata": {
    "tags": []
   },
   "outputs": [
    {
     "name": "stdout",
     "output_type": "stream",
     "text": [
      "train_acc: 0.7937442011998891 test_acc: 0.7840596704074321 train_recall: 0.8681978671258657 test_recall: 0.6848357782514146 train_f1: 0.5020395685944391 test_f1: 0.4608110930670081\n"
     ]
    }
   ],
   "source": [
    "# Implement the model without any parameter tuning.\n",
    "clf = BalancedRandomForestClassifier()\n",
    "train_acc, val_acc, train_recall, val_recall, train_f1, val_f1 = cross_validate(clf, X_train, y_train)\n",
    "\n",
    "print(\"train_acc:\", np.mean(train_acc), \"test_acc:\", np.mean(val_acc), \"train_recall:\", np.mean(train_recall), \"test_recall:\", np.mean(val_recall), \"train_f1:\", np.mean(train_f1), \"test_f1:\", np.mean(val_f1) ) "
   ]
  },
  {
   "cell_type": "markdown",
   "id": "349515db-b41d-4963-bf03-e323a69aa8a8",
   "metadata": {},
   "source": [
    "<font size=\"3\">After I get the initial result, I tried to use Hyperparameter tuning to acquire a better result. I will run the original dataset and oversampling dataset to see the difference."
   ]
  },
  {
   "cell_type": "markdown",
   "id": "f65f4e96-7f5a-4a85-9b7d-86416b3ab05e",
   "metadata": {},
   "source": [
    "<font size=\"3\"> This hyperparameter tuning process takes around 5-6mins."
   ]
  },
  {
   "cell_type": "code",
   "execution_count": 35,
   "id": "7adda58d-818b-4e0b-a23a-6ad43fc58ef6",
   "metadata": {},
   "outputs": [
    {
     "name": "stdout",
     "output_type": "stream",
     "text": [
      "The original training dataset: {'class_weight': 'balanced', 'criterion': 'gini', 'max_depth': 13, 'min_samples_split': 19, 'sampling_strategy': 'not majority', 'n_estimators': 81}\n",
      "The oversampling training dataset: {'class_weight': {0: 0.01, 1: 0.54, 2: 0.45}, 'criterion': 'gini', 'max_depth': 17, 'min_samples_split': 17, 'sampling_strategy': 'not majority', 'n_estimators': 81}\n"
     ]
    }
   ],
   "source": [
    "# Find the best hyperparameter using hyperparameter tuning(RandomSearch).\n",
    "# This is the original dataset\n",
    "scorer_recall = make_scorer(recall_score, average = \"macro\")\n",
    "scorer_precision = make_scorer(precision_score, average = \"macro\")\n",
    "scorer_accuracy = make_scorer(accuracy_score,  average = \"macro\")\n",
    "scorer_f1 = make_scorer(f1_score,  average = \"macro\")\n",
    "\n",
    "clf_original = BalancedRandomForestClassifier()\n",
    "clf_over_sample = BalancedRandomForestClassifier()\n",
    "\n",
    "param_distributions = {\"max_depth\": randint(2,20), \n",
    "                       \"min_samples_split\": randint(2, 20), \n",
    "                       \"criterion\" :(\"gini\", \"entropy\"), \n",
    "                       \"sampling_strategy\": (\"auto\", \"not majority\", \"all\") ,\n",
    "                       \"class_weight\":({0: .01, 1: 0.54, 2:0.45}, {0: .0001, 1: 0.54, 2:0.45}, {0: .05, 1: 0.5, 2:0.45}, \"balanced\")\n",
    "                      }\n",
    "search = HalvingRandomSearchCV(clf_original, param_distributions, resource='n_estimators', max_resources=100, random_state=0, scoring = scorer_f1).fit(X_train, y_train)\n",
    "print(\"The original training dataset:\", search.best_params_)\n",
    "\n",
    "search_oversample = HalvingRandomSearchCV(clf_over_sample, param_distributions, resource='n_estimators', max_resources=100, random_state=0, scoring = scorer_f1).fit(X_train_o, y_train_o)\n",
    "print(\"The oversampling training dataset:\", search_oversample.best_params_)"
   ]
  },
  {
   "cell_type": "markdown",
   "id": "c4881f15-d107-431c-ab98-5ce6787123a7",
   "metadata": {},
   "source": [
    "<font size=\"3\">Run the result after getting the hyperparameters."
   ]
  },
  {
   "cell_type": "code",
   "execution_count": 36,
   "id": "3b49e624-b3d4-41ca-bd9f-75f561b0ef9f",
   "metadata": {
    "tags": []
   },
   "outputs": [
    {
     "name": "stdout",
     "output_type": "stream",
     "text": [
      "train_acc: 0.9610621618077121 test_acc: 0.9503400051863714 train_recall: 0.8031514605579494 test_recall: 0.5311977393940182 train_f1: 0.6415917542453735 test_f1: 0.5176262672595154\n"
     ]
    }
   ],
   "source": [
    "# The result for the original dataset\n",
    "p0 = search.best_params_\n",
    "clf_BRFC = BalancedRandomForestClassifier(n_estimators = p0['n_estimators'], min_samples_split = p0['min_samples_split'],\n",
    "                                    sampling_strategy= p0['sampling_strategy'], criterion= p0['criterion'],\n",
    "                                    max_depth= p0['max_depth'], class_weight = p0['class_weight'])\n",
    "\n",
    "train_acc, val_acc, train_recall, val_recall, train_f1, val_f1 = cross_validate(clf_BRFC, X_train, y_train)\n",
    "print(\"train_acc:\", np.mean(train_acc), \"test_acc:\", np.mean(val_acc), \"train_recall:\", np.mean(train_recall), \"test_recall:\", np.mean(val_recall), \"train_f1:\", np.mean(train_f1), \"test_f1:\", np.mean(val_f1) )"
   ]
  },
  {
   "cell_type": "code",
   "execution_count": 37,
   "id": "c8f7cb05-e8db-440a-9331-8a99e98c46c5",
   "metadata": {},
   "outputs": [
    {
     "name": "stdout",
     "output_type": "stream",
     "text": [
      "train_acc: 0.9766369849696922 test_acc: 0.9602984848407219 train_recall: 0.8628248652749513 test_recall: 0.5610627557562988 train_f1: 0.8498608695625399 test_f1: 0.6052587471653978\n"
     ]
    }
   ],
   "source": [
    "# The result for the oversampling on minority class dataset\n",
    "p1 = search_oversample.best_params_\n",
    "clf_BRFC_o = BalancedRandomForestClassifier(n_estimators = p1['n_estimators'], min_samples_split = p1['min_samples_split'],\n",
    "                                    sampling_strategy= p1['sampling_strategy'], criterion= p1['criterion'],\n",
    "                                    max_depth= p1['max_depth'], class_weight = p1['class_weight'])\n",
    "\n",
    "train_acc_o, val_acc_o, train_recall_o, val_recall_o, train_f1_o, val_fl_o = cross_validate(clf_BRFC_o, X_train_o, y_train_o)\n",
    "print(\"train_acc:\", np.mean(train_acc_o), \"test_acc:\", np.mean(val_acc_o), \"train_recall:\", np.mean(train_recall_o), \"test_recall:\", np.mean(val_recall_o), \"train_f1:\", np.mean(train_f1_o), \"test_f1:\", np.mean(val_fl_o) )"
   ]
  },
  {
   "cell_type": "markdown",
   "id": "893026a9-9867-42c0-8a71-c0fd2c0c66cc",
   "metadata": {},
   "source": [
    "<font size=\"3\">Perform statistical testing on val_f1 and val_f1_o to show the statistical significance by seeing the p-value less than 0.05. It means these two groups of the result are significantly different. Then we can decide which model has a better performance."
   ]
  },
  {
   "cell_type": "code",
   "execution_count": 38,
   "id": "a60cc2ba-d56b-4733-b2ee-59c5c8bdf40c",
   "metadata": {
    "tags": []
   },
   "outputs": [
    {
     "name": "stdout",
     "output_type": "stream",
     "text": [
      "Are these two group of results from the same group: False\n"
     ]
    }
   ],
   "source": [
    "# The whitney test\n",
    "U1, p_value_1 = mannwhitneyu(np.stack(val_f1, axis=1 ).flatten(), np.stack(val_fl_o, axis=1 ).flatten())\n",
    "# If they are not in the same group it means there is one group performing better than the other. If yes then their prediction performance should be similar. \n",
    "print(\"Are these two group of results from the same group:\", p_value_1 > 0.05)"
   ]
  },
  {
   "cell_type": "markdown",
   "id": "e9c7a3a8-25bc-4259-b148-560400606a1e",
   "metadata": {},
   "source": [
    "<font size=\"3\">It seems like the oversampling dataset provides more information to the classifier. But it might have an overfitting issue, so I have to check the prediction on testing data and results."
   ]
  },
  {
   "cell_type": "code",
   "execution_count": 39,
   "id": "6b6f79d0-6d67-453c-bc47-2d5fb3a302f7",
   "metadata": {},
   "outputs": [],
   "source": [
    "y_pred = clf_BRFC.predict(X_test)\n",
    "y_pred_o = clf_BRFC_o.predict(X_test)"
   ]
  },
  {
   "cell_type": "markdown",
   "id": "f328f0e7-5f1d-426e-9c02-34ee45113b86",
   "metadata": {},
   "source": [
    "<font size=\"3\">Result from original dataset."
   ]
  },
  {
   "cell_type": "code",
   "execution_count": 40,
   "id": "e411749d-468c-425e-a8d8-32eb6873ca32",
   "metadata": {},
   "outputs": [
    {
     "name": "stdout",
     "output_type": "stream",
     "text": [
      "Recall:  [0.97515445 0.25       0.36511156]\n",
      "Accuracy:  0.9505810241348487\n",
      "Precision:  [0.98003739 0.06318083 0.8       ]\n",
      "F1:  [0.97758982 0.10086957 0.50139276]\n"
     ]
    },
    {
     "data": {
      "image/png": "[encoded data removed]",
      "text/plain": [
       "<Figure size 432x288 with 2 Axes>"
      ]
     },
     "metadata": {
      "needs_background": "light"
     },
     "output_type": "display_data"
    }
   ],
   "source": [
    "evaluation(y_test, y_pred)"
   ]
  },
  {
   "cell_type": "markdown",
   "id": "10fa2110-cdd0-4b25-b4ab-81d000118478",
   "metadata": {},
   "source": [
    "<font size=\"3\">Result from oversampling minority classes dataset."
   ]
  },
  {
   "cell_type": "code",
   "execution_count": 41,
   "id": "dbd5c2d2-402c-443c-8314-973d9b8bc2a6",
   "metadata": {},
   "outputs": [
    {
     "name": "stdout",
     "output_type": "stream",
     "text": [
      "Recall:  [0.99129742 0.04310345 0.45030426]\n",
      "Accuracy:  0.9672455625079811\n",
      "Precision:  [0.97797877 0.05154639 0.72312704]\n",
      "F1:  [0.98459305 0.04694836 0.555     ]\n"
     ]
    },
    {
     "data": {
      "image/png": "[encoded data removed]",
      "text/plain": [
       "<Figure size 432x288 with 2 Axes>"
      ]
     },
     "metadata": {
      "needs_background": "light"
     },
     "output_type": "display_data"
    }
   ],
   "source": [
    "evaluation(y_test, y_pred_o)"
   ]
  },
  {
   "cell_type": "markdown",
   "id": "d7dcc85a-bf62-4bf8-b0e5-c98bf94b7a37",
   "metadata": {},
   "source": [
    "<font size=\"4\"> Conclusion: Based on the F1 score result, the product tier can be predicted.\n",
    "But the Plus class prediction should be improved. Furthermore, I will choose the dataset without implementing SMOTE oversampling technique. The Plus class is performing well with the original training dataset.\n",
    "<br> Even though the macro value of all metrics is closed, I would like to pick a model that better predicts minority class. There is a trade-off between Recall and Precision.\n",
    "<br> I think it can improve the metrics if I can acquire more data points in the imbalance class or even more features."
   ]
  },
  {
   "cell_type": "markdown",
   "id": "7727fecb-4179-4547-a6e6-2171d88882bf",
   "metadata": {},
   "source": [
    "-------"
   ]
  },
  {
   "cell_type": "markdown",
   "id": "b11b5884-88d2-488b-84a4-4714e136db76",
   "metadata": {},
   "source": [
    "<font size=\"5\"> Step 6 Question 2 Model running - Is it possible to predict detail views from the information given in the other columns? \n",
    "<br >Because detail views are a continuous number I use regression models. However, we face the outlier issue in detail views. Therefore, I use linear and non-linear models to predict the detail views because of the difference in robustness on outliers."
   ]
  },
  {
   "cell_type": "code",
   "execution_count": 42,
   "id": "0cab11e1-d716-4517-a4e7-242d80db1d9c",
   "metadata": {},
   "outputs": [],
   "source": [
    "#Create X_re \n",
    "\n",
    "X_re = df.drop(columns = ['article_id', 'created_date', 'deleted_date', 'detail_views', 'ctr', 'cd_dow']) #search_views, stock_days, registration_year, product_tier 'make_name', 'price', 'first_zip_digit'\n",
    "\n",
    "lee = LabelEncoder()\n",
    "lee.fit(df['make_name'])\n",
    "X_re['make_name'] = lee.transform(df['make_name'])\n",
    "# X_re =  pd.concat([X_re, create_dummy(df['make_name'])], axis = 1)\n",
    "# X_re = X_re.drop(columns = 'make_name')\n",
    "\n",
    "#Create y_re\n",
    "le = LabelEncoder()\n",
    "le.fit(df['product_tier'])\n",
    "X_re['product_tier'] = le.transform(df['product_tier'])\n",
    "\n",
    "y_re = df['detail_views'] #ctr"
   ]
  },
  {
   "cell_type": "code",
   "execution_count": 43,
   "id": "42539845-2b66-4414-bfee-cb003eb2bbe2",
   "metadata": {},
   "outputs": [],
   "source": [
    "# Split the dataset, test/train = 20/80\n",
    "X_train_re, X_test_re, y_train_re, y_test_re = train_test_split(X_re, y_re, test_size=0.2, random_state=42)"
   ]
  },
  {
   "cell_type": "code",
   "execution_count": 44,
   "id": "c86a42f2-9868-46f4-835d-ee312051744b",
   "metadata": {},
   "outputs": [
    {
     "data": {
      "text/plain": [
       "{'whiskers': [<matplotlib.lines.Line2D at 0x7fb9f445b7f0>,\n",
       "  <matplotlib.lines.Line2D at 0x7fb9f445bac0>],\n",
       " 'caps': [<matplotlib.lines.Line2D at 0x7fb9f445be50>,\n",
       "  <matplotlib.lines.Line2D at 0x7fb9f44690a0>],\n",
       " 'boxes': [<matplotlib.lines.Line2D at 0x7fb9f445b520>],\n",
       " 'medians': [<matplotlib.lines.Line2D at 0x7fb9f4469370>],\n",
       " 'fliers': [<matplotlib.lines.Line2D at 0x7fb9f4469640>],\n",
       " 'means': []}"
      ]
     },
     "execution_count": 44,
     "metadata": {},
     "output_type": "execute_result"
    },
    {
     "data": {
      "image/png": "[encoded data removed]",
      "text/plain": [
       "<Figure size 432x288 with 1 Axes>"
      ]
     },
     "metadata": {
      "needs_background": "light"
     },
     "output_type": "display_data"
    }
   ],
   "source": [
    "plt.boxplot(df[\"detail_views\"], vert = 0)"
   ]
  },
  {
   "cell_type": "code",
   "execution_count": 26,
   "id": "038a5b92-fb85-4148-8d03-a0819cb43055",
   "metadata": {},
   "outputs": [
    {
     "data": {
      "text/plain": [
       "<matplotlib.lines.Line2D at 0x7f9c439e8580>"
      ]
     },
     "execution_count": 26,
     "metadata": {},
     "output_type": "execute_result"
    },
    {
     "data": {
      "image/png": "[encoded data removed]",
      "text/plain": [
       "<Figure size 1008x432 with 1 Axes>"
      ]
     },
     "metadata": {
      "needs_background": "light"
     },
     "output_type": "display_data"
    }
   ],
   "source": [
    "ax = df[\"detail_views\"].plot(kind = 'density', figsize=(14, 6))\n",
    "ax.axvline(df[\"detail_views\"].mean(), color='red')\n",
    "ax.axvline(df[\"detail_views\"].median(), color='green')"
   ]
  },
  {
   "cell_type": "code",
   "execution_count": 27,
   "id": "1a4a38b2-0615-43ca-b3d4-6d9a41f93bf8",
   "metadata": {},
   "outputs": [
    {
     "data": {
      "image/png": "[encoded data removed]",
      "text/plain": [
       "<Figure size 1008x432 with 1 Axes>"
      ]
     },
     "metadata": {
      "needs_background": "light"
     },
     "output_type": "display_data"
    }
   ],
   "source": [
    "ax = df[\"detail_views\"].plot(kind = 'hist', figsize=(14, 6))"
   ]
  },
  {
   "cell_type": "code",
   "execution_count": 45,
   "id": "0eae7ce3-24d8-49f9-b786-511c777c0ce3",
   "metadata": {},
   "outputs": [
    {
     "data": {
      "text/plain": [
       "count    78308.000000\n",
       "mean        93.472838\n",
       "std        228.029446\n",
       "min          0.000000\n",
       "25%         13.000000\n",
       "50%         36.000000\n",
       "75%         94.000000\n",
       "max      13926.000000\n",
       "Name: detail_views, dtype: float64"
      ]
     },
     "execution_count": 45,
     "metadata": {},
     "output_type": "execute_result"
    }
   ],
   "source": [
    "df['detail_views'].describe()"
   ]
  },
  {
   "cell_type": "markdown",
   "id": "2629ab61-3de0-4230-a069-7a747b475cef",
   "metadata": {},
   "source": [
    "<font size=\"3\"> It is obvious that the distribution of the detail views is skewed. You can tell from the differece between mean(93.5) and median(36)."
   ]
  },
  {
   "cell_type": "code",
   "execution_count": 46,
   "id": "92dc4bdd-a273-41f9-baf5-57d4b8494908",
   "metadata": {},
   "outputs": [
    {
     "data": {
      "text/html": [
       "<div>\n",
       "<style scoped>\n",
       "    .dataframe tbody tr th:only-of-type {\n",
       "        vertical-align: middle;\n",
       "    }\n",
       "\n",
       "    .dataframe tbody tr th {\n",
       "        vertical-align: top;\n",
       "    }\n",
       "\n",
       "    .dataframe thead th {\n",
       "        text-align: right;\n",
       "    }\n",
       "</style>\n",
       "<table border=\"1\" class=\"dataframe\">\n",
       "  <thead>\n",
       "    <tr style=\"text-align: right;\">\n",
       "      <th></th>\n",
       "      <th>article_id</th>\n",
       "      <th>product_tier</th>\n",
       "      <th>make_name</th>\n",
       "      <th>price</th>\n",
       "      <th>first_zip_digit</th>\n",
       "      <th>first_registration_year</th>\n",
       "      <th>created_date</th>\n",
       "      <th>deleted_date</th>\n",
       "      <th>search_views</th>\n",
       "      <th>detail_views</th>\n",
       "      <th>stock_days</th>\n",
       "      <th>ctr</th>\n",
       "      <th>cd_dow</th>\n",
       "    </tr>\n",
       "  </thead>\n",
       "  <tbody>\n",
       "    <tr>\n",
       "      <th>25</th>\n",
       "      <td>353088830</td>\n",
       "      <td>Basic</td>\n",
       "      <td>Porsche</td>\n",
       "      <td>12950</td>\n",
       "      <td>5</td>\n",
       "      <td>2005</td>\n",
       "      <td>2018-08-04</td>\n",
       "      <td>2018-09-27</td>\n",
       "      <td>15318.0</td>\n",
       "      <td>1274.0</td>\n",
       "      <td>54</td>\n",
       "      <td>0.083170</td>\n",
       "      <td>5</td>\n",
       "    </tr>\n",
       "    <tr>\n",
       "      <th>113</th>\n",
       "      <td>350268198</td>\n",
       "      <td>Basic</td>\n",
       "      <td>Fiat</td>\n",
       "      <td>950</td>\n",
       "      <td>3</td>\n",
       "      <td>2003</td>\n",
       "      <td>2018-07-20</td>\n",
       "      <td>2018-09-17</td>\n",
       "      <td>16740.0</td>\n",
       "      <td>930.0</td>\n",
       "      <td>59</td>\n",
       "      <td>0.055556</td>\n",
       "      <td>4</td>\n",
       "    </tr>\n",
       "    <tr>\n",
       "      <th>118</th>\n",
       "      <td>363615144</td>\n",
       "      <td>Basic</td>\n",
       "      <td>Ford</td>\n",
       "      <td>399</td>\n",
       "      <td>8</td>\n",
       "      <td>2004</td>\n",
       "      <td>2018-11-16</td>\n",
       "      <td>2018-12-01</td>\n",
       "      <td>12828.0</td>\n",
       "      <td>1152.0</td>\n",
       "      <td>15</td>\n",
       "      <td>0.089804</td>\n",
       "      <td>4</td>\n",
       "    </tr>\n",
       "    <tr>\n",
       "      <th>279</th>\n",
       "      <td>357829441</td>\n",
       "      <td>Basic</td>\n",
       "      <td>Mercedes-Benz</td>\n",
       "      <td>3250</td>\n",
       "      <td>4</td>\n",
       "      <td>2004</td>\n",
       "      <td>2018-09-12</td>\n",
       "      <td>2019-01-07</td>\n",
       "      <td>17024.0</td>\n",
       "      <td>814.0</td>\n",
       "      <td>117</td>\n",
       "      <td>0.047815</td>\n",
       "      <td>2</td>\n",
       "    </tr>\n",
       "    <tr>\n",
       "      <th>286</th>\n",
       "      <td>350226406</td>\n",
       "      <td>Premium</td>\n",
       "      <td>BMW</td>\n",
       "      <td>11909</td>\n",
       "      <td>2</td>\n",
       "      <td>2005</td>\n",
       "      <td>2018-07-20</td>\n",
       "      <td>2018-10-03</td>\n",
       "      <td>26037.0</td>\n",
       "      <td>951.0</td>\n",
       "      <td>75</td>\n",
       "      <td>0.036525</td>\n",
       "      <td>4</td>\n",
       "    </tr>\n",
       "    <tr>\n",
       "      <th>...</th>\n",
       "      <td>...</td>\n",
       "      <td>...</td>\n",
       "      <td>...</td>\n",
       "      <td>...</td>\n",
       "      <td>...</td>\n",
       "      <td>...</td>\n",
       "      <td>...</td>\n",
       "      <td>...</td>\n",
       "      <td>...</td>\n",
       "      <td>...</td>\n",
       "      <td>...</td>\n",
       "      <td>...</td>\n",
       "      <td>...</td>\n",
       "    </tr>\n",
       "    <tr>\n",
       "      <th>78130</th>\n",
       "      <td>361204153</td>\n",
       "      <td>Premium</td>\n",
       "      <td>Mercedes-Benz</td>\n",
       "      <td>5950</td>\n",
       "      <td>8</td>\n",
       "      <td>2008</td>\n",
       "      <td>2018-10-20</td>\n",
       "      <td>2018-12-05</td>\n",
       "      <td>20459.0</td>\n",
       "      <td>867.0</td>\n",
       "      <td>46</td>\n",
       "      <td>0.042377</td>\n",
       "      <td>5</td>\n",
       "    </tr>\n",
       "    <tr>\n",
       "      <th>78203</th>\n",
       "      <td>358548599</td>\n",
       "      <td>Basic</td>\n",
       "      <td>Lexus</td>\n",
       "      <td>10200</td>\n",
       "      <td>2</td>\n",
       "      <td>2012</td>\n",
       "      <td>2018-09-20</td>\n",
       "      <td>2019-01-17</td>\n",
       "      <td>22594.0</td>\n",
       "      <td>936.0</td>\n",
       "      <td>119</td>\n",
       "      <td>0.041427</td>\n",
       "      <td>3</td>\n",
       "    </tr>\n",
       "    <tr>\n",
       "      <th>78245</th>\n",
       "      <td>350268403</td>\n",
       "      <td>Basic</td>\n",
       "      <td>Audi</td>\n",
       "      <td>2950</td>\n",
       "      <td>7</td>\n",
       "      <td>2006</td>\n",
       "      <td>2018-07-20</td>\n",
       "      <td>2018-08-22</td>\n",
       "      <td>17218.0</td>\n",
       "      <td>1067.0</td>\n",
       "      <td>33</td>\n",
       "      <td>0.061970</td>\n",
       "      <td>4</td>\n",
       "    </tr>\n",
       "    <tr>\n",
       "      <th>78284</th>\n",
       "      <td>353006120</td>\n",
       "      <td>Basic</td>\n",
       "      <td>Opel</td>\n",
       "      <td>2399</td>\n",
       "      <td>3</td>\n",
       "      <td>2008</td>\n",
       "      <td>2018-08-04</td>\n",
       "      <td>2018-11-12</td>\n",
       "      <td>27609.0</td>\n",
       "      <td>2240.0</td>\n",
       "      <td>100</td>\n",
       "      <td>0.081133</td>\n",
       "      <td>5</td>\n",
       "    </tr>\n",
       "    <tr>\n",
       "      <th>78293</th>\n",
       "      <td>360448434</td>\n",
       "      <td>Basic</td>\n",
       "      <td>BMW</td>\n",
       "      <td>7950</td>\n",
       "      <td>7</td>\n",
       "      <td>2009</td>\n",
       "      <td>2018-10-12</td>\n",
       "      <td>2018-11-06</td>\n",
       "      <td>7493.0</td>\n",
       "      <td>807.0</td>\n",
       "      <td>25</td>\n",
       "      <td>0.107701</td>\n",
       "      <td>4</td>\n",
       "    </tr>\n",
       "  </tbody>\n",
       "</table>\n",
       "<p>1026 rows × 13 columns</p>\n",
       "</div>"
      ],
      "text/plain": [
       "       article_id product_tier      make_name  price  first_zip_digit  \\\n",
       "25      353088830        Basic        Porsche  12950                5   \n",
       "113     350268198        Basic           Fiat    950                3   \n",
       "118     363615144        Basic           Ford    399                8   \n",
       "279     357829441        Basic  Mercedes-Benz   3250                4   \n",
       "286     350226406      Premium            BMW  11909                2   \n",
       "...           ...          ...            ...    ...              ...   \n",
       "78130   361204153      Premium  Mercedes-Benz   5950                8   \n",
       "78203   358548599        Basic          Lexus  10200                2   \n",
       "78245   350268403        Basic           Audi   2950                7   \n",
       "78284   353006120        Basic           Opel   2399                3   \n",
       "78293   360448434        Basic            BMW   7950                7   \n",
       "\n",
       "       first_registration_year created_date deleted_date  search_views  \\\n",
       "25                        2005   2018-08-04   2018-09-27       15318.0   \n",
       "113                       2003   2018-07-20   2018-09-17       16740.0   \n",
       "118                       2004   2018-11-16   2018-12-01       12828.0   \n",
       "279                       2004   2018-09-12   2019-01-07       17024.0   \n",
       "286                       2005   2018-07-20   2018-10-03       26037.0   \n",
       "...                        ...          ...          ...           ...   \n",
       "78130                     2008   2018-10-20   2018-12-05       20459.0   \n",
       "78203                     2012   2018-09-20   2019-01-17       22594.0   \n",
       "78245                     2006   2018-07-20   2018-08-22       17218.0   \n",
       "78284                     2008   2018-08-04   2018-11-12       27609.0   \n",
       "78293                     2009   2018-10-12   2018-11-06        7493.0   \n",
       "\n",
       "       detail_views  stock_days       ctr  cd_dow  \n",
       "25           1274.0          54  0.083170       5  \n",
       "113           930.0          59  0.055556       4  \n",
       "118          1152.0          15  0.089804       4  \n",
       "279           814.0         117  0.047815       2  \n",
       "286           951.0          75  0.036525       4  \n",
       "...             ...         ...       ...     ...  \n",
       "78130         867.0          46  0.042377       5  \n",
       "78203         936.0         119  0.041427       3  \n",
       "78245        1067.0          33  0.061970       4  \n",
       "78284        2240.0         100  0.081133       5  \n",
       "78293         807.0          25  0.107701       4  \n",
       "\n",
       "[1026 rows x 13 columns]"
      ]
     },
     "execution_count": 46,
     "metadata": {},
     "output_type": "execute_result"
    }
   ],
   "source": [
    "# Check the outliers. Formula = mean +- 3* standard deviation.\n",
    "\n",
    "df.loc[(df['detail_views'] > np.mean(df['detail_views']) + 3 * np.std(df['detail_views'])) | (df['detail_views'] < np.mean(df['detail_views']) - 3 * np.std(df['detail_views']))]"
   ]
  },
  {
   "cell_type": "markdown",
   "id": "88504a42-34a0-432b-b98d-cd37cad6d221",
   "metadata": {},
   "source": [
    "Confirm detail views is skewed and has 1000+ outliers."
   ]
  },
  {
   "cell_type": "markdown",
   "id": "1872082e-9924-4768-b6af-fd9e65595b0f",
   "metadata": {},
   "source": [
    "<font size=\"3\"> I implement two models. One model is a linear regression model that is not robust to the outliers, and the other is a non-linear regression model robust to the outliers. I choose Mean Absolute error as a metric because this metric will not be affected by outliers. On the other hand, if I use the Mean Squared error, it is affected by the huge errors."
   ]
  },
  {
   "cell_type": "code",
   "execution_count": 47,
   "id": "88e44069-866a-41bb-90cb-41af6c2e78e0",
   "metadata": {},
   "outputs": [],
   "source": [
    "def cross_validate_re(classifier, df_X_train, df_y_train,  cv = KFold(shuffle = True)):\n",
    "    \"\"\"\n",
    "    This function is to cross validate the result. Normally, we use Kfold.\n",
    "    input: classifier, X_train: training dataset(dataframe), y_train: training labels(series), cv: cross validation model\n",
    "    output: average value of the 25 outputs, including training, testing MAE and RS.\n",
    "    \"\"\"\n",
    "    # clf = Pipeline(steps=[\n",
    "    #     ('preprocess', preprocess),\n",
    "    #     ('classifier', classifier)\n",
    "    # ])\n",
    "    \n",
    "    # Mean Absolute Error list\n",
    "    train_MAE_list = []\n",
    "    val_MAE_list = []\n",
    "    # R-Squared list\n",
    "    train_RS_list = []\n",
    "    val_RS_list = []\n",
    "    \n",
    "    #Run 5 times cross_validation and return the average result\n",
    "    for _ in range(5):\n",
    "        \n",
    "        train_MAE = []\n",
    "        val_MAE = []\n",
    "        train_RS = []\n",
    "        val_RS = []\n",
    "        \n",
    "        for train_ind, val_ind in cv.split(df_X_train, df_y_train):\n",
    "            X_t, y_t = df_X_train.iloc[train_ind], df_y_train.iloc[train_ind]\n",
    "            classifier.fit(X_t, y_t)\n",
    "            y_hat_t = classifier.predict(X_t)\n",
    "            train_MAE.append(mean_absolute_error(y_t, y_hat_t))\n",
    "            train_RS.append(classifier.score(X_t, y_t))\n",
    "            \n",
    "            X_val, y_val = df_X_train.iloc[val_ind], df_y_train.iloc[val_ind]\n",
    "            y_hat_val = classifier.predict(X_val)\n",
    "            val_MAE.append(mean_absolute_error(y_val, y_hat_val))\n",
    "            val_RS.append(classifier.score(X_val, y_val))\n",
    "        \n",
    "        train_MAE_list.append(train_MAE)\n",
    "        val_MAE_list.append(val_MAE)\n",
    "        train_RS_list.append(train_RS)\n",
    "        val_RS_list.append(val_RS)\n",
    "        \n",
    "    return train_MAE_list, val_MAE_list, train_RS_list, val_RS_list"
   ]
  },
  {
   "cell_type": "markdown",
   "id": "ec5f9c20-0b4b-49d6-b620-8028d8e8bbc5",
   "metadata": {},
   "source": [
    "Linear Regression model - This model is not robust to outliers."
   ]
  },
  {
   "cell_type": "code",
   "execution_count": 48,
   "id": "f11db22b-987a-4040-82de-6ca3d5276ed2",
   "metadata": {
    "tags": []
   },
   "outputs": [
    {
     "name": "stdout",
     "output_type": "stream",
     "text": [
      "train_MAE: 42.82636139915118 test_MAE: 42.87466274602899 train_RS: 0.7252841805285887 test_RS: 0.7201245431901316\n"
     ]
    }
   ],
   "source": [
    "clf_lr = LinearRegression()\n",
    "train_MAE_lr, val_MAE_lr, train_RS_lr, val_RS_lr = cross_validate_re(clf_lr ,X_train_re, y_train_re)\n",
    "\n",
    "print(\"train_MAE:\", np.mean(train_MAE_lr), \"test_MAE:\", np.mean(val_MAE_lr), \"train_RS:\", np.mean(train_RS_lr), \"test_RS:\", np.mean(val_RS_lr))"
   ]
  },
  {
   "cell_type": "markdown",
   "id": "7eb4f7f9-5e5f-4857-ba96-3cf3f6f6e86e",
   "metadata": {},
   "source": [
    "Non-Linear Regression model -- This cross validation takes 10 mins. This model is robust to outliers."
   ]
  },
  {
   "cell_type": "code",
   "execution_count": 49,
   "id": "3eed118d-ad80-4594-9d4e-b0428484a5b0",
   "metadata": {},
   "outputs": [
    {
     "name": "stdout",
     "output_type": "stream",
     "text": [
      "train_MAE: 14.531676386135468 test_MAE: 39.1298717594593 train_RS: 0.9645851048612787 test_RS: 0.7475649978774558\n"
     ]
    }
   ],
   "source": [
    "clf_rfr = RandomForestRegressor()\n",
    "train_MAE_rfr, val_MAE_rfr, train_RS_rfr, val_RS_rfr = cross_validate_re(clf_rfr ,X_train_re, y_train_re)\n",
    "\n",
    "print(\"train_MAE:\", np.mean(train_MAE_rfr), \"test_MAE:\", np.mean(val_MAE_rfr), \"train_RS:\", np.mean(train_RS_rfr), \"test_RS:\", np.mean(val_RS_rfr))"
   ]
  },
  {
   "cell_type": "code",
   "execution_count": 50,
   "id": "83d80bc8-3cd1-4db4-ab96-e0f7868dd92e",
   "metadata": {},
   "outputs": [
    {
     "name": "stdout",
     "output_type": "stream",
     "text": [
      "Are these two group of results from the same group: False\n"
     ]
    }
   ],
   "source": [
    "# Add the whitney test\n",
    "U2, p_value_2 = mannwhitneyu(np.stack( val_MAE_lr, axis=1 ).flatten(), np.stack( val_MAE_rfr, axis=1 ).flatten())\n",
    "# If they are not in the same group it means there is one group performing better than the other. If yes then their prediction performance should be similar. \n",
    "print(\"Are these two group of results from the same group:\", p_value_2 > 0.05)"
   ]
  },
  {
   "cell_type": "markdown",
   "id": "d06fad16-d509-475f-8c47-f2a15b29038c",
   "metadata": {},
   "source": [
    "It seems the result showing the performance of these two models is different. So I will choose Random-Forest Regressor as my model to predict the detail views."
   ]
  },
  {
   "cell_type": "code",
   "execution_count": 51,
   "id": "a53e4990-5a5b-46ee-a0c5-a3d9deb17212",
   "metadata": {},
   "outputs": [
    {
     "name": "stdout",
     "output_type": "stream",
     "text": [
      "Testing result from Linear Regression:\n",
      "MAE: 44.89\n",
      "R-Squared: 0.6496\n"
     ]
    }
   ],
   "source": [
    "lr = LinearRegression().fit(X_train_re, y_train_re)\n",
    "y_pred_lr = lr.predict(X_test_re)\n",
    "errors_lr = mean_absolute_error(y_test_re, y_pred_lr)\n",
    "print(\"Testing result from Linear Regression:\")\n",
    "print(\"MAE:\", round(errors_lr, 2))\n",
    "print(\"R-Squared:\", round(lr.score(X_test_re, y_test_re),4))"
   ]
  },
  {
   "cell_type": "code",
   "execution_count": 52,
   "id": "3024b248-d3be-48c3-864c-f25e1b9d338f",
   "metadata": {},
   "outputs": [
    {
     "name": "stdout",
     "output_type": "stream",
     "text": [
      "Testing result from Random-Forest Regressor:\n",
      "MAE: 40.53\n",
      "R-Squared: 0.6901\n"
     ]
    }
   ],
   "source": [
    "rfr = RandomForestRegressor().fit(X_train_re, y_train_re)\n",
    "y_pred_rfr = rfr.predict(X_test_re)\n",
    "errors_rfr = mean_absolute_error(y_test_re, y_pred_rfr)\n",
    "print(\"Testing result from Random-Forest Regressor:\")\n",
    "print(\"MAE:\", round(errors_rfr, 2))\n",
    "print(\"R-Squared:\", round(rfr.score(X_test_re, y_test_re),4))"
   ]
  },
  {
   "cell_type": "markdown",
   "id": "b6fa5f7a-5930-4929-b006-b2a323adf2d2",
   "metadata": {},
   "source": [
    "<font size=\"4\"> Conclusion: Based on the R-Squared result above, the detail views are predictable. I can get the metrics around R-Squared(0.7) and MAE(40) from Random-Forest Regressor. I choose the random-forest regressor over linear regression because the cross-validation shows the performance of the random-forest regressor is better than the linear regression model significantly. \n",
    "<br>I think it can improve the metrics if I can acquire more features."
   ]
  }
 ],
 "metadata": {
  "kernelspec": {
   "display_name": "Python 3 (ipykernel)",
   "language": "python",
   "name": "python3"
  },
  "language_info": {
   "codemirror_mode": {
    "name": "ipython",
    "version": 3
   },
   "file_extension": ".py",
   "mimetype": "text/x-python",
   "name": "python",
   "nbconvert_exporter": "python",
   "pygments_lexer": "ipython3",
   "version": "3.8.12"
  }
 },
 "nbformat": 4,
 "nbformat_minor": 5
}
